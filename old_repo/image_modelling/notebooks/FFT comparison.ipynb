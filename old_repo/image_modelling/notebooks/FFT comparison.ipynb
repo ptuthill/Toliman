{
 "cells": [
  {
   "cell_type": "code",
   "execution_count": 1,
   "metadata": {
    "collapsed": true
   },
   "outputs": [],
   "source": [
    "# Add local scripts to module search path\n",
    "import sys\n",
    "import os\n",
    "sys.path.append(os.path.realpath('../toliman-proper'))"
   ]
  },
  {
   "cell_type": "markdown",
   "metadata": {},
   "source": [
    "# FFT Comparison for Toliman modelling\n",
    "\n",
    "PROPER supports Fast Fourier Transforms (FFTs) using Numpy's internal algorithms, or using external FFTW or Intel MKL libraries. This notebook compares the speed of executing a propagation of the Toliman system for each case.\n",
    "\n",
    "This test uses the `form_detector_image` function used to wrap up the operations in PROPER to form a single detector image."
   ]
  },
  {
   "cell_type": "code",
   "execution_count": 2,
   "metadata": {
    "collapsed": false
   },
   "outputs": [],
   "source": [
    "import timeit\n",
    "\n",
    "# These parameters affect the sampling, and therefore the amount of FFT computation \n",
    "gridsize = 2048 # sampling of wavefront\n",
    "beam_ratio = 0.4\n",
    "\n",
    "# How many iterations to perform\n",
    "nits = 10\n",
    "\n",
    "results = {}"
   ]
  },
  {
   "cell_type": "code",
   "execution_count": 3,
   "metadata": {
    "collapsed": false
   },
   "outputs": [
    {
     "name": "stderr",
     "output_type": "stream",
     "text": [
      "/suphys/bjef8061/.local/lib/python3.5/site-packages/pyfits-3.5-py3.5-linux-x86_64.egg/pyfits/__init__.py:22: PyFITSDeprecationWarning: PyFITS is deprecated, please use astropy.io.fits\n",
      "  PyFITSDeprecationWarning)  # noqa\n"
     ]
    }
   ],
   "source": [
    "# Setup for image\n",
    "from proper_tools import form_detector_image\n",
    "from spirals import binarized_ringed\n",
    "\n",
    "prescription = 'prescription_rc_quad'\n",
    "# The actual values probably don't matter all that much for the purposes of this comparison.\n",
    "toliman_settings = {\n",
    "                    'diam': 0.001 * 2. * 150, \n",
    "                    'm1_fl': 571.7300 / 1000.,\n",
    "                    'm1_m2_sep': 549.240/1000.,\n",
    "                    'm2_fl': -23.3800/1000.,\n",
    "                    'bfl': 590.000 / 1000., \n",
    "                    'm2_rad': 5.9 / 1000., \n",
    "                    'm2_strut_width': 0.01,\n",
    "                    'm2_supports': 5,\n",
    "                    'beam_ratio': beam_ratio,\n",
    "                    'tilt_x': 0.00,\n",
    "                    'tilt_y': 0.00,\n",
    "                    'phase_func': binarized_ringed\n",
    "                    }\n",
    "\n",
    "\n",
    "detector_pitch = 11.0e-6 # m/pixel on detector\n",
    "npixels = 512 # Size of detector, in pixels\n",
    "\n",
    "wl_gauss = [5.999989e-01,\n",
    "            6.026560e-01,\n",
    "            6.068356e-01,\n",
    "            6.119202e-01,\n",
    "            6.173624e-01,\n",
    "            6.226281e-01,\n",
    "            6.270944e-01,\n",
    "            6.300010e-01 ]\n",
    "weights_gaus = [5.3770e-02,\n",
    "                1.1224e-01,\n",
    "                1.5056e-01,\n",
    "                1.7034e-01,\n",
    "                1.7342e-01,\n",
    "                1.5861e-01,\n",
    "                1.2166e-01,\n",
    "                5.9360e-02 ]\n",
    "\n",
    "# First source, on axis\n",
    "source_a = {\n",
    "            'wavelengths': wl_gauss,\n",
    "            'weights': weights_gaus,\n",
    "            'settings': toliman_settings\n",
    "            }\n",
    "\n",
    "# Second source, off-axis\n",
    "tilted = toliman_settings.copy()\n",
    "tilted['tilt_x'] = 3.00\n",
    "tilted['tilt_y'] = 1.00\n",
    "\n",
    "source_b = source_a.copy()\n",
    "source_b['settings'] = tilted\n",
    "\n",
    "def timed_op():\n",
    "    return form_detector_image(prescription, [source_a, source_b], gridsize, detector_pitch, npixels)\n",
    "\n",
    "def doit():\n",
    "#    return timeit.timeit('timed_op()', 'gc.enable()', number=nits, globals=globals())\n",
    "    return timeit.timeit('timed_op()', number=nits, globals=globals())"
   ]
  },
  {
   "cell_type": "markdown",
   "metadata": {},
   "source": [
    "## Default Numpy FFT"
   ]
  },
  {
   "cell_type": "code",
   "execution_count": 4,
   "metadata": {
    "collapsed": false
   },
   "outputs": [],
   "source": [
    "import proper\n",
    "proper.prop_use_fftw(DISABLE=True)\n",
    "results['numpy'] = doit()"
   ]
  },
  {
   "cell_type": "markdown",
   "metadata": {},
   "source": [
    "## FFTW library\n",
    "\n"
   ]
  },
  {
   "cell_type": "code",
   "execution_count": null,
   "metadata": {
    "collapsed": false
   },
   "outputs": [],
   "source": [
    "import proper\n",
    "proper.prop_use_fftw()\n",
    "proper.prop_fftw_wisdom(gridsize)\n",
    "results['fftw'] = doit()"
   ]
  },
  {
   "cell_type": "markdown",
   "metadata": {
    "collapsed": true
   },
   "source": [
    "## Intel MKL\n",
    "\n",
    "Intel Math Kernel Library"
   ]
  },
  {
   "cell_type": "code",
   "execution_count": null,
   "metadata": {
    "collapsed": false
   },
   "outputs": [],
   "source": [
    "import proper\n",
    "proper.prop_use_ffti(MKL_DIR='/usr/physics/ic16/mkl/lib/intel64/')\n",
    "results['intel'] = doit()"
   ]
  },
  {
   "cell_type": "markdown",
   "metadata": {
    "collapsed": true
   },
   "source": [
    "## Results"
   ]
  },
  {
   "cell_type": "code",
   "execution_count": null,
   "metadata": {
    "collapsed": false
   },
   "outputs": [],
   "source": [
    "print(results)"
   ]
  },
  {
   "cell_type": "code",
   "execution_count": null,
   "metadata": {
    "collapsed": true
   },
   "outputs": [],
   "source": []
  }
 ],
 "metadata": {
  "anaconda-cloud": {},
  "kernelspec": {
   "display_name": "Python [default]",
   "language": "python",
   "name": "python3"
  },
  "language_info": {
   "codemirror_mode": {
    "name": "ipython",
    "version": 3
   },
   "file_extension": ".py",
   "mimetype": "text/x-python",
   "name": "python",
   "nbconvert_exporter": "python",
   "pygments_lexer": "ipython3",
   "version": "3.5.2"
  }
 },
 "nbformat": 4,
 "nbformat_minor": 2
}
