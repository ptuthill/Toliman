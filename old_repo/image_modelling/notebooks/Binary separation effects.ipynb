{
 "cells": [
  {
   "cell_type": "markdown",
   "metadata": {},
   "source": [
    "# Investigation of small separation changes\n",
    "\n",
    "The script used to generate the data for this can be found in `batch/spirals_vary_tilt/batch.py`."
   ]
  },
  {
   "cell_type": "code",
   "execution_count": null,
   "metadata": {
    "collapsed": false
   },
   "outputs": [],
   "source": [
    "import numpy as np\n",
    "import os\n",
    "import pickle\n",
    "import re\n",
    "\n",
    "prescription = 'prescription_rc_quad'\n",
    "# Source file location\n",
    "datapath = '../batch/spirals_vary_tilt/'\n",
    "\n",
    "reffile = '03.000000-00.000000_prescription_rc_quad'\n",
    "with open(os.path.join(datapath,reffile), 'rb') as infile:\n",
    "    ref = pickle.load(infile)\n",
    "\n",
    "psfs = []\n",
    "float_pattern = '[-+]?(\\d+(\\.\\d*)?|\\.\\d+)([eE][-+]?\\d+)?'\n",
    "p = re.compile('(?P<x>{})-(?P<y>{})_{}'.format(float_pattern, float_pattern, prescription))\n",
    "for fname in os.listdir(datapath):\n",
    "    m = p.match(fname)\n",
    "    if m is not None:\n",
    "        #print(fname)\n",
    "        dims = m.groupdict()\n",
    "        psf = {}\n",
    "        psf['tilt_x'] = float(dims['x'])\n",
    "        psf['tilt_y'] = float(dims['y'])\n",
    "        with open(os.path.join(datapath,fname), 'rb') as infile:\n",
    "            psf['data'] = pickle.load(infile)\n",
    "        psfs.append(psf)\n"
   ]
  },
  {
   "cell_type": "markdown",
   "metadata": {},
   "source": [
    "# RMSE Change in image\n",
    "\n"
   ]
  },
  {
   "cell_type": "code",
   "execution_count": 27,
   "metadata": {
    "collapsed": false
   },
   "outputs": [],
   "source": [
    "import numpy as np\n",
    "\n",
    "vpmin = 256-64\n",
    "vpmax = 256+64\n",
    "refvp = ref[vpmin:vpmax, vpmin:vpmax]\n",
    "dx = []\n",
    "errs = []\n",
    "for psf in psfs:\n",
    "    dx.append(psf['tilt_x'])\n",
    "    dif = psf['data'][vpmin:vpmax, vpmin:vpmax] - refvp\n",
    "    errs.append(np.sum(dif**2))"
   ]
  },
  {
   "cell_type": "code",
   "execution_count": 48,
   "metadata": {
    "collapsed": false
   },
   "outputs": [
    {
     "data": {
      "image/png": "[encoded data removed]",
      "text/plain": [
       "<matplotlib.figure.Figure at 0x7f83200a3d68>"
      ]
     },
     "metadata": {},
     "output_type": "display_data"
    }
   ],
   "source": [
    "import matplotlib.pyplot as plt\n",
    "plt.plot([1e6*(x - 3.0) for x in dx],np.sqrt(errs)/(128.*128.), 'rx')\n",
    "#plt.title('Effect of small separation changes')\n",
    "plt.xlabel('Change from initial position (µas)')\n",
    "plt.ylabel('Intensity RMSE')\n",
    "plt.show()"
   ]
  },
  {
   "cell_type": "code",
   "execution_count": 61,
   "metadata": {
    "collapsed": false
   },
   "outputs": [],
   "source": [
    "import numpy as np\n",
    "\n",
    "lines = []\n",
    "for psf in psfs:\n",
    "    lines.append({'dx': psf['tilt_x'] - 3.0, 'data': psf['data'][vpmin:vpmax, 255:256]})\n",
    "lines.sort(key=lambda tup: tup['dx'])\n"
   ]
  },
  {
   "cell_type": "code",
   "execution_count": 84,
   "metadata": {
    "collapsed": false
   },
   "outputs": [
    {
     "name": "stdout",
     "output_type": "stream",
     "text": [
      "128 100\n",
      "(100, 128) (100, 128)\n"
     ]
    }
   ],
   "source": [
    "y = [line['dx'] for line in lines]\n",
    "x = range(vpmax-vpmin)\n",
    "X, Y = np.meshgrid(x,y)\n",
    "Z = np.zeros(X.shape)\n",
    "for i,line in enumerate(lines):\n",
    "    for j, z in enumerate(line['data']):\n",
    "        Z[i,j] =  z\n"
   ]
  },
  {
   "cell_type": "code",
   "execution_count": 86,
   "metadata": {
    "collapsed": false
   },
   "outputs": [
    {
     "data": {
      "image/png": "[encoded data removed]",
      "text/plain": [
       "<matplotlib.figure.Figure at 0x7f831ab66e80>"
      ]
     },
     "metadata": {},
     "output_type": "display_data"
    }
   ],
   "source": [
    "CS = plt.contourf(Y, X, np.log10(Z))#, 10, cmap=plt.cm.bone, origin=origin)\n",
    "plt.show()"
   ]
  },
  {
   "cell_type": "code",
   "execution_count": null,
   "metadata": {
    "collapsed": true
   },
   "outputs": [],
   "source": []
  }
 ],
 "metadata": {
  "kernelspec": {
   "display_name": "Python [default]",
   "language": "python",
   "name": "python3"
  },
  "language_info": {
   "codemirror_mode": {
    "name": "ipython",
    "version": 3
   },
   "file_extension": ".py",
   "mimetype": "text/x-python",
   "name": "python",
   "nbconvert_exporter": "python",
   "pygments_lexer": "ipython3",
   "version": "3.5.2"
  }
 },
 "nbformat": 4,
 "nbformat_minor": 2
}
