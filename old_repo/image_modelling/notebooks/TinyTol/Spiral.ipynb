{
 "cells": [
  {
   "cell_type": "markdown",
   "metadata": {},
   "source": [
    "# Spiral testing\n",
    "Code exploring the mechanics behind the generation of the pupils spiral pattern"
   ]
  },
  {
   "cell_type": "code",
   "execution_count": 13,
   "metadata": {},
   "outputs": [],
   "source": [
    "import math\n",
    "import numpy as np\n",
    "\n",
    "def binarized_ringed_flipped(r, phi, phase, thresh=0., white=0, empty=0., r_max=15., r_min=2., r_split=5.):\n",
    "    # Spiral parameters\n",
    "    alpha1 = 20.186\n",
    "    m1 = 5\n",
    "    eta1 = -1.308\n",
    "    m2 = -5\n",
    "    alpha2 = 16.149\n",
    "    eta2 = -0.733\n",
    "    m3 = 10\n",
    "    alpha3 = 4.0372\n",
    "    eta3 = -0.575    \n",
    "\n",
    "    s = 0.15/300. # m/internal sampling dist\n",
    "\n",
    "    black = phase\n",
    "    v = empty\n",
    "    r = r/s\n",
    "    if (r<=r_max and r>r_min):\n",
    "        logr = log10(r)\n",
    "        chi1 = alpha1*logr+m1*phi+eta1\n",
    "        c1 = cos(chi1)\n",
    "        chi2 = alpha2*logr+m2*phi+eta2\n",
    "        c2 = cos(chi2)\n",
    "        chi3 = alpha3*logr+m3*phi+eta3\n",
    "        c3 = sin(chi3)\n",
    "        if (r>r_split): # Outer rim\n",
    "            if (c3<thresh):\n",
    "                if (sin(chi3/2.)<thresh):\n",
    "                    v=black if (c1*c2*c3>thresh) else white\n",
    "                else:\n",
    "                    v=black                \n",
    "            else:                \n",
    "                v=black if (c1*c2*c3>thresh) else white\n",
    "        else: # Main spiral\n",
    "            v=black if (c1*c2*c3>thresh) else white\n",
    "    return v\n",
    "\n",
    "def gen_opdmap(opd_func, ngrid, sampling):    \n",
    "    opd_map = np.zeros([ngrid, ngrid], dtype = np.float64)\n",
    "    c = ngrid/2.\n",
    "    for i in range(ngrid):\n",
    "        for j in range(ngrid):\n",
    "            x = i - c\n",
    "            y = j - c\n",
    "            phi = math.atan2(y, x)\n",
    "            r = sampling*math.hypot(x,y)\n",
    "            opd_map[i][j] = opd_func(r, phi)\n",
    "        \n",
    "    return opd_map\n",
    "\n",
    "def binarized_ringed_525_scaled(r, phi, r_max=15., r_min=2., r_split=5):\n",
    "    phase = 525.*1e-9*0.5 # Has units of nm\n",
    "    return binarized_ringed_flipped(r, phi, phase, r_max=r_max, r_min=r_min, r_split=r_split)"
   ]
  },
  {
   "cell_type": "code",
   "execution_count": 14,
   "metadata": {},
   "outputs": [],
   "source": [
    "spiral = gen_opdmap(binarized_ringed_525_scaled, 2048, 5)"
   ]
  },
  {
   "cell_type": "code",
   "execution_count": 15,
   "metadata": {},
   "outputs": [
    {
     "name": "stdout",
     "output_type": "stream",
     "text": [
      "<class 'numpy.float64'>\n"
     ]
    }
   ],
   "source": [
    "print(type(spiral[0][0]))"
   ]
  },
  {
   "cell_type": "code",
   "execution_count": 17,
   "metadata": {},
   "outputs": [
    {
     "data": {
      "image/png": "[encoded data removed]",
      "text/plain": [
       "<Figure size 432x288 with 1 Axes>"
      ]
     },
     "metadata": {},
     "output_type": "display_data"
    }
   ],
   "source": [
    "import matplotlib.pyplot as plt\n",
    "plt.imshow(np.angle(spiral))\n",
    "# plt.colorbar()\n",
    "plt.show()"
   ]
  },
  {
   "cell_type": "code",
   "execution_count": null,
   "metadata": {},
   "outputs": [],
   "source": []
  }
 ],
 "metadata": {
  "kernelspec": {
   "display_name": "Python 3",
   "language": "python",
   "name": "python3"
  },
  "language_info": {
   "codemirror_mode": {
    "name": "ipython",
    "version": 3
   },
   "file_extension": ".py",
   "mimetype": "text/x-python",
   "name": "python",
   "nbconvert_exporter": "python",
   "pygments_lexer": "ipython3",
   "version": "3.7.1"
  }
 },
 "nbformat": 4,
 "nbformat_minor": 2
}
