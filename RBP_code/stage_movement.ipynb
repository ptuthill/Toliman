{
 "cells": [
  {
   "cell_type": "code",
   "execution_count": 1,
   "metadata": {},
   "outputs": [],
   "source": [
    "from instrumental import instrument, list_instruments, u, Q_\n",
    "from time import sleep\n",
    "import numpy as np"
   ]
  },
  {
   "cell_type": "code",
   "execution_count": 2,
   "metadata": {},
   "outputs": [
    {
     "data": {
      "text/plain": [
       "[<ParamSet[TDC001_APT] port='/dev/ttyUSB2'>,\n",
       " <ParamSet[TDC001_APT] port='/dev/ttyUSB1'>,\n",
       " <ParamSet[TDC001_APT] port='/dev/ttyUSB0'>]"
      ]
     },
     "execution_count": 2,
     "metadata": {},
     "output_type": "execute_result"
    }
   ],
   "source": [
    "devices = list_instruments()\n",
    "[device for  device in devices]"
   ]
  },
  {
   "cell_type": "code",
   "execution_count": 3,
   "metadata": {},
   "outputs": [],
   "source": [
    "instruments = [instrument(device) for device in devices]\n",
    "z = instruments[0]\n",
    "y = instruments[1]\n",
    "x = instruments[2]"
   ]
  },
  {
   "cell_type": "code",
   "execution_count": 4,
   "metadata": {},
   "outputs": [],
   "source": [
    "def move(axis, dist, cen):\n",
    "    pos = cen + dist/1000\n",
    "    axis.move_to(pos*u.mm)"
   ]
  },
  {
   "cell_type": "code",
   "execution_count": 5,
   "metadata": {},
   "outputs": [],
   "source": [
    "xmin = 0\n",
    "xmax = xmin + 5.2\n",
    "cx = (xmax-xmin)/2\n",
    "\n",
    "ymin = 2.235\n",
    "ymax = ymin + 3.90\n",
    "cy = (ymax+ymin)/2"
   ]
  },
  {
   "cell_type": "code",
   "execution_count": 13,
   "metadata": {},
   "outputs": [
    {
     "name": "stdout",
     "output_type": "stream",
     "text": [
      "2.65\n",
      "4.185\n"
     ]
    }
   ],
   "source": [
    "move(x, 50, cx)\n",
    "move(y, 0, cy)"
   ]
  },
  {
   "cell_type": "code",
   "execution_count": 52,
   "metadata": {},
   "outputs": [
    {
     "name": "stdout",
     "output_type": "stream",
     "text": [
      "2.6\n"
     ]
    }
   ],
   "source": [
    "# x.move_to((xmax-0.025)*u.mm)\n",
    "x.move_to(cx*u.mm)"
   ]
  },
  {
   "cell_type": "code",
   "execution_count": 56,
   "metadata": {},
   "outputs": [
    {
     "name": "stdout",
     "output_type": "stream",
     "text": [
      "6.135\n"
     ]
    }
   ],
   "source": [
    "y.move_to((ymax-0.0)*u.mm)"
   ]
  },
  {
   "cell_type": "code",
   "execution_count": 40,
   "metadata": {},
   "outputs": [
    {
     "name": "stdout",
     "output_type": "stream",
     "text": [
      "2.235\n"
     ]
    }
   ],
   "source": [
    "y.move_to(2.235*u.mm)"
   ]
  },
  {
   "cell_type": "code",
   "execution_count": 15,
   "metadata": {},
   "outputs": [
    {
     "name": "stdout",
     "output_type": "stream",
     "text": [
      "2\n"
     ]
    }
   ],
   "source": [
    "z.move_to(5*u.mm)"
   ]
  },
  {
   "cell_type": "code",
   "execution_count": null,
   "metadata": {},
   "outputs": [],
   "source": []
  }
 ],
 "metadata": {
  "kernelspec": {
   "display_name": "Python 3",
   "language": "python",
   "name": "python3"
  },
  "language_info": {
   "codemirror_mode": {
    "name": "ipython",
    "version": 3
   },
   "file_extension": ".py",
   "mimetype": "text/x-python",
   "name": "python",
   "nbconvert_exporter": "python",
   "pygments_lexer": "ipython3",
   "version": "3.6.1"
  }
 },
 "nbformat": 4,
 "nbformat_minor": 2
}
