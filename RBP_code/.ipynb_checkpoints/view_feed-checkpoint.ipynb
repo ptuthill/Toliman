{
 "cells": [
  {
   "cell_type": "code",
   "execution_count": 1,
   "metadata": {},
   "outputs": [],
   "source": [
    "import picamera\n",
    "from time import sleep\n",
    "import numpy as np\n",
    "import time"
   ]
  },
  {
   "cell_type": "code",
   "execution_count": 2,
   "metadata": {},
   "outputs": [],
   "source": [
    "im = False\n",
    "overlay = True\n",
    "\n",
    "# file_name = \"Broadband\"\n",
    "res = (3280, 2464) if im else (1640, 1232)"
   ]
  },
  {
   "cell_type": "code",
   "execution_count": null,
   "metadata": {},
   "outputs": [
    {
     "name": "stdout",
     "output_type": "stream",
     "text": [
      "Shutter Speed: 20000\n",
      "19991\n",
      "Shutter Speed: 15000\n",
      "15000\n",
      "Shutter Speed: 5000\n",
      "5000\n"
     ]
    }
   ],
   "source": [
    "x_res = 3280//2\n",
    "y_res = 2464//2\n",
    "\n",
    "with picamera.PiCamera() as c:\n",
    "    \n",
    "    # Initialise camera values \n",
    "    c.brightness = 50\n",
    "    c.contrast = 0\n",
    "    c.exposure_compensation = 0\n",
    "    c.saturation = 0\n",
    "    c.sharpness = 0\n",
    "    c.exposure_mode = \"off\"\n",
    "    c.awb_mode = \"off\"\n",
    "    c.image_denoise = False\n",
    "    c.resolution = (x_res, y_res)\n",
    "\n",
    "    # Set frame rate to that determined from above\n",
    "    c.framerate = 10\n",
    "    c.shutter_speed = 1000\n",
    "\n",
    "    c.start_preview()\n",
    "    c.preview.fullscreen = False\n",
    "    c.preview.window = (0, 0, int(x_res//2), int(y_res//2))\n",
    "\n",
    "    try:\n",
    "        while True:\n",
    "            time.sleep(.1)\n",
    "\n",
    "            s_speed = input(\"Shutter Speed: \")\n",
    "            try:\n",
    "                ss = int(s_speed)\n",
    "\n",
    "                if ss == -1:\n",
    "                    break\n",
    "\n",
    "                c.shutter_speed = ss\n",
    "                print(c.shutter_speed)\n",
    "            except ValueError:\n",
    "                print(\"Enter a number!\")\n",
    "\n",
    "    except KeyboardInterrupt:\n",
    "        print(\"Exited!\")\n",
    "\n",
    "    finally:\n",
    "        pass\n"
   ]
  },
  {
   "cell_type": "code",
   "execution_count": null,
   "metadata": {},
   "outputs": [],
   "source": [
    "\n"
   ]
  }
 ],
 "metadata": {
  "kernelspec": {
   "display_name": "Python 3",
   "language": "python",
   "name": "python3"
  },
  "language_info": {
   "codemirror_mode": {
    "name": "ipython",
    "version": 3
   },
   "file_extension": ".py",
   "mimetype": "text/x-python",
   "name": "python",
   "nbconvert_exporter": "python",
   "pygments_lexer": "ipython3",
   "version": "3.6.1"
  }
 },
 "nbformat": 4,
 "nbformat_minor": 2
}
