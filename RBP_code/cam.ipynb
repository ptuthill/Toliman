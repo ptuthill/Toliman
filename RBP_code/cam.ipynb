{
 "cells": [
  {
   "cell_type": "code",
   "execution_count": null,
   "metadata": {},
   "outputs": [],
   "source": []
  },
  {
   "cell_type": "code",
   "execution_count": 1,
   "metadata": {},
   "outputs": [],
   "source": [
    "import os\n",
    "path = \"/media/pi/ECFB-0955/lab_data\"\n",
    "os.chdir(path)"
   ]
  },
  {
   "cell_type": "markdown",
   "metadata": {},
   "source": [
    "We should now be working from the USB stick so that we do not run out of space on the SD card (which is basically full)"
   ]
  },
  {
   "cell_type": "code",
   "execution_count": 2,
   "metadata": {},
   "outputs": [],
   "source": [
    "from picamera import PiCamera\n",
    "from time import sleep\n",
    "import numpy as np"
   ]
  },
  {
   "cell_type": "code",
   "execution_count": 3,
   "metadata": {},
   "outputs": [],
   "source": [
    "c = PiCamera()"
   ]
  },
  {
   "cell_type": "code",
   "execution_count": 9,
   "metadata": {},
   "outputs": [],
   "source": [
    "# c.close()"
   ]
  },
  {
   "cell_type": "code",
   "execution_count": 4,
   "metadata": {},
   "outputs": [],
   "source": [
    "c.exposure_mode = \"off\"\n",
    "c.awb_mode = \"off\"\n",
    "c.image_denoise = False"
   ]
  },
  {
   "cell_type": "code",
   "execution_count": 5,
   "metadata": {},
   "outputs": [],
   "source": [
    "x = 3280//2\n",
    "y = 2464//2\n",
    "c.resolution = (x, y)"
   ]
  },
  {
   "cell_type": "code",
   "execution_count": 6,
   "metadata": {},
   "outputs": [],
   "source": [
    "c.framerate = 0.5"
   ]
  },
  {
   "cell_type": "code",
   "execution_count": 7,
   "metadata": {},
   "outputs": [
    {
     "name": "stdout",
     "output_type": "stream",
     "text": [
      "0\n",
      "99977\n"
     ]
    }
   ],
   "source": [
    "print(c.shutter_speed)\n",
    "c.shutter_speed = 100000\n",
    "print(c.shutter_speed)"
   ]
  },
  {
   "cell_type": "code",
   "execution_count": null,
   "metadata": {},
   "outputs": [],
   "source": []
  },
  {
   "cell_type": "code",
   "execution_count": null,
   "metadata": {},
   "outputs": [],
   "source": []
  },
  {
   "cell_type": "code",
   "execution_count": 10,
   "metadata": {},
   "outputs": [],
   "source": [
    "# im = True\n",
    "# im = False\n",
    "# file_name = \"Broadband\"\n",
    "# res = (3280, 2464) if im else (1640, 1232)\n",
    "# c.shutter_speed = 1000 # miliseconds, 9 min 33243 max\n",
    "# c.exposure_mode = \"off\"\n",
    "# c.awb_mode = \"off\"\n",
    "# c.image_denoise = False\n",
    "# c.resolution = res\n",
    "# #fps = 40\n",
    "\n",
    "# # Should all be default\n",
    "# #c.framerate = (fps, 1) #120 max\n",
    "# #c.brightness = 50\n",
    "# #c.meter_mode = \"spot\"\n",
    "# #c.contrast = 0\n",
    "# #c.exposure_compensation = 0\n",
    "# #c.saturation = 0\n",
    "# #c.sharpness = 50\n",
    "# #c.iso = 1000 # Irellivant when setting exposure mode off (I think)"
   ]
  },
  {
   "cell_type": "code",
   "execution_count": 8,
   "metadata": {},
   "outputs": [
    {
     "name": "stdout",
     "output_type": "stream",
     "text": [
      "99977\n"
     ]
    }
   ],
   "source": [
    "print(c.shutter_speed)"
   ]
  },
  {
   "cell_type": "code",
   "execution_count": 14,
   "metadata": {},
   "outputs": [
    {
     "name": "stdout",
     "output_type": "stream",
     "text": [
      "Done!\n"
     ]
    }
   ],
   "source": [
    "\n",
    "if im:\n",
    "    #sleep(2.5)\n",
    "    c.capture(path + \"/test/{}.jpg\".format(file_name), format=\"jpeg\")\n",
    "    #c.capture(\"/home/pi/Desktop/{}_bayer.jpg\".format(file_name), bayer=True, format=\"jpeg\")\n",
    "else:\n",
    "    c.start_preview()\n",
    "    c.preview.fullscreen = True\n",
    "    #c.preview.window = (0, 0, 820, 616)\n",
    "\n",
    "    sleep(2.5)\n",
    "    sleep(15)\n",
    "    \n",
    "    c.stop_preview()\n",
    "    \n",
    "print(\"Done!\")\n"
   ]
  },
  {
   "cell_type": "code",
   "execution_count": null,
   "metadata": {},
   "outputs": [],
   "source": []
  }
 ],
 "metadata": {
  "kernelspec": {
   "display_name": "Python 3",
   "language": "python",
   "name": "python3"
  },
  "language_info": {
   "codemirror_mode": {
    "name": "ipython",
    "version": 3
   },
   "file_extension": ".py",
   "mimetype": "text/x-python",
   "name": "python",
   "nbconvert_exporter": "python",
   "pygments_lexer": "ipython3",
   "version": "3.6.1"
  }
 },
 "nbformat": 4,
 "nbformat_minor": 2
}
