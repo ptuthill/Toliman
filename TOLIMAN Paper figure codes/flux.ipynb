{
 "cells": [
  {
   "cell_type": "code",
   "execution_count": 2,
   "id": "8d965e2a-47bc-4abb-bff9-f52d8540fbc2",
   "metadata": {},
   "outputs": [],
   "source": [
    "# +\n",
    "#  NAME:\n",
    "#        flux\n",
    "#  PURPOSE:\n",
    "#        get flux (counts for integration time) from star ...\n",
    "# \n",
    "#  CALLING SEQUENCE:\n",
    "#        xx = skyflux()\n",
    "# \n",
    "#  INPUTS:\n",
    "#      see  for description\n",
    "# \n",
    "#  RETURNS:\n",
    "#       \n",
    "# \n",
    "#  OPTIONAL OUTPUTS:\n",
    "#       \n",
    "#  EXTERNAL CALLS:\n",
    "#       Programs in Atmosphere and Noise directories\n",
    "#  \n",
    "#  METHOD:\n",
    "# \n",
    "#  BUGS:\n",
    "# \n",
    "# -"
   ]
  },
  {
   "cell_type": "code",
   "execution_count": 3,
   "id": "6e51b200-ff58-454e-9783-af4e1487f0e6",
   "metadata": {},
   "outputs": [],
   "source": [
    "import numpy as np"
   ]
  },
  {
   "cell_type": "code",
   "execution_count": 1,
   "id": "d9789837-3e01-414d-a481-ec969c594081",
   "metadata": {},
   "outputs": [],
   "source": [
    "# not sure if this needs a wavelength\n",
    "def mag2jy(magnitude):\n",
    "    exponent = -0.4*magnitude\n",
    "    fv = 3631*(10**exponent) \n",
    "    return fv\n"
   ]
  },
  {
   "cell_type": "code",
   "execution_count": 2,
   "id": "8a8ff351-1fe2-4f6a-b711-8675a8e00a31",
   "metadata": {},
   "outputs": [],
   "source": [
    "def flux(w_min, w_max, t_area, instr_eff, det_eff, polz_eff, t_integ, atm_loss, s_mag):\n",
    "    # fundamental constants etc\n",
    "    jy = 1.0e-26   # Wattz/(Hz M^2)\n",
    "    c  = 2.99792e8 # m/s\n",
    "    h  = 6.625e-34\n",
    "    \n",
    "    w_mean = (w_max+w_min)/2\n",
    "    w_bw   = (w_max - w_min)\n",
    "    \n",
    "    # Work out how much flux we have from the star. \n",
    "    # Per model time bin, waveband bin\n",
    "    s_lum = mag2jy(s_mag)  # this is now in jansky (not scaled) at the top of the atmosphere?\n",
    "    \n",
    "    f_bin = c*( 1/(w_mean-w_bw/2.0) - 1/(w_mean+w_bw/2.0))\n",
    "    \n",
    "    s_lum = s_lum * jy * f_bin * t_area # this should be in joules/sec\n",
    "    \n",
    "    photon_energy = h*c/w_mean\n",
    "    \n",
    "    s_lum = s_lum / photon_energy # should now be in photons/sec\n",
    "    s_lum = s_lum * t_integ # photons / integration\n",
    "    \n",
    "    print('Luminosity before losses: {:.0f} photons/integration'.format(s_lum))\n",
    "    \n",
    "    s_lum = s_lum * atm_loss * instr_eff * polz_eff\n",
    "    \n",
    "    print('Luminosity at detector: {:.0f} photons/integration'.format(s_lum))\n",
    "    \n",
    "    s_lum = s_lum * det_eff\n",
    "    \n",
    "    print('Final detected flux: {:.0f} photons/integration')\n",
    "    return s_lum"
   ]
  }
 ],
 "metadata": {
  "kernelspec": {
   "display_name": "Python 3",
   "language": "python",
   "name": "python3"
  },
  "language_info": {
   "codemirror_mode": {
    "name": "ipython",
    "version": 3
   },
   "file_extension": ".py",
   "mimetype": "text/x-python",
   "name": "python",
   "nbconvert_exporter": "python",
   "pygments_lexer": "ipython3",
   "version": "3.9.4"
  }
 },
 "nbformat": 4,
 "nbformat_minor": 5
}
