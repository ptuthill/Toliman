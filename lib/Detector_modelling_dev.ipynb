{
 "cells": [
  {
   "cell_type": "markdown",
   "metadata": {},
   "source": [
    "# Detector modelling development\n",
    "> A script for modelling the output and noise processes of various CCD detectors"
   ]
  },
  {
   "cell_type": "code",
   "execution_count": 1,
   "metadata": {},
   "outputs": [],
   "source": [
    "import numpy as np\n",
    "from scipy.ndimage import shift, zoom"
   ]
  },
  {
   "cell_type": "markdown",
   "metadata": {},
   "source": [
    "To Do:"
   ]
  },
  {
   "cell_type": "markdown",
   "metadata": {},
   "source": [
    "## Current scripts"
   ]
  },
  {
   "cell_type": "code",
   "execution_count": 2,
   "metadata": {},
   "outputs": [],
   "source": [
    "def CCD_output(photons, QE, read_noise, dark_current, fps, gain, full_well):\n",
    "    \"\"\"\n",
    "    Models the convertion of a psf incident to the detector into an image\n",
    "    QE: Quantum efficiency [0, 1]\n",
    "    read_noise: electrons per pixel\n",
    "    dark_current: electrons / (second * pixel)\n",
    "    fps: frames per second\n",
    "    gain: electrons / ADU\n",
    "    full_well: electrons/pixel\n",
    "    \n",
    "    primarily put together with info from: http://kmdouglass.github.io/posts/modeling-noise-for-image-simulations/\n",
    "    \n",
    "    BUG: some values are returned as negative (can fix with np.abs?)\n",
    "    \"\"\"\n",
    "    # Poission noise of photons \n",
    "    photons = np.random.poisson(photons) \n",
    "    \n",
    "    # Convert photons to electrons \n",
    "    electrons = np.round(photons * QE) \n",
    "    \n",
    "    # Calcuate total electron noise\n",
    "    dark_noise = read_noise + (dark_current/fps) \n",
    "    \n",
    "    # Model noise with gaussian distribution\n",
    "    noise = np.round(np.random.normal(scale=dark_noise, size=electrons.shape)) \n",
    "    \n",
    "    # Add noise CCD noise to image and get ADU output\n",
    "    # Should this be sensitivity rather than gain?? \n",
    "    image = (electrons + noise) * gain \n",
    "    \n",
    "    # Model pixel saturation\n",
    "    image[image > full_well] = full_well \n",
    "    \n",
    "    return image"
   ]
  },
  {
   "cell_type": "code",
   "execution_count": 3,
   "metadata": {},
   "outputs": [],
   "source": [
    "def interpolate_to_detector(PSFs, azimuthal_offset, pixel_size, detector_pitch, focal_length, num_positions):\n",
    "    \"\"\"\n",
    "    Interpolates and downsamples the high res PSFs produced by zemax\n",
    "    Inputs:\n",
    "        PSFs, list:\n",
    "            - [0] on-axis PSF\n",
    "            - [1] off-axis PSF\n",
    "        azimuthal_offset, arcsec: Angular offset from the central FoV\n",
    "        pixel_size, m: Size of the pixels used to form the PSFs in Zemax\n",
    "        detector_pitch, m: Size of the pixels on the detector\n",
    "        focal_length, m: Focal lenght of the telescope\n",
    "        num_positions, int: The number of angular position about the centre to simulate \n",
    "        \n",
    "    Outputs: \n",
    "        detector_psfs, list: List of 2D array representing the PSFs interpolated onto the detector\n",
    "    \"\"\"\n",
    "    # Calcualte needed values\n",
    "    pixel_seperation = arcsec_to_pixel(azimuthal_offset, pixel_size, focal_length)\n",
    "    ratio = pixel_size/detector_pitch\n",
    "    \n",
    "    # Calculate the x-y pixel shift coordinates\n",
    "    thetas = np.linspace(-np.pi, np.pi, num=num_positions)\n",
    "    Xs = pixel_seperation*np.cos(thetas)\n",
    "    Ys = pixel_seperation*np.sin(thetas)\n",
    "    \n",
    "    # Interpolate PSFs\n",
    "    psfs_oversampled = [shift(PSFs[0], [0, 0]) + shift(PSFs[1], [Xs[i], Ys[i]]) for i in range(num_positions)]\n",
    "\n",
    "    # Downsample PSFs\n",
    "    detector_psfs = [zoom(psf, ratio) for psf in psfs_oversampled]\n",
    "    \n",
    "    return detector_psfs"
   ]
  },
  {
   "cell_type": "code",
   "execution_count": null,
   "metadata": {},
   "outputs": [],
   "source": [
    "# Bayer interpolations \n",
    "\n",
    "def interpolate_bayer(image):\n",
    "    \"\"\"\n",
    "    Takes in a detector image and does a full bayer interpolation to simulate the output of a bayer array\n",
    "    \"\"\"\n",
    "    red = get_red(image)\n",
    "    green = get_green(image)\n",
    "    blue = get_blue(image)\n",
    "    return [red, green, blue]\n",
    "\n",
    "def get_red(image):\n",
    "    \"\"\"\n",
    "    Returns the red channel from the RGGB bayer pattern\n",
    "    Assumes and outputs a square image\n",
    "    \"\"\"\n",
    "    chip_dim = image.shape[1]\n",
    "    bayer_red = np.remainder((np.arange(chip_dim)),2)\n",
    "    bayer_red = np.outer(bayer_red,bayer_red)\n",
    "    im_red = np.zeros((chip_dim//2,chip_dim//2))\n",
    "    im_red = (image[bayer_red.nonzero()]).reshape(chip_dim//2,chip_dim//2)\n",
    "    return im_red\n",
    "\n",
    "    \n",
    "def get_green(image):\n",
    "    \"\"\"\n",
    "    Returns the green channel from the RGGB bayer pattern\n",
    "    Assumes and outputs a square image\n",
    "    Returned image is rotated by 45 degrees and has null output for the corners\n",
    "    \"\"\"\n",
    "    chip_dim = image.shape[1]\n",
    "    bayer_green = np.remainder((np.arange(chip_dim**2))+np.arange(chip_dim**2)/chip_dim,2)\n",
    "    bayer_green = bayer_green.reshape(chip_dim,chip_dim)\n",
    "    gnz = bayer_green.nonzero() \n",
    "    g_mapping = [chip_dim//2 -1 - (gnz[0]-gnz[1])//2,(gnz[0]+gnz[1])//2]\n",
    "    im_green=np.zeros((chip_dim,chip_dim))\n",
    "    im_green[g_mapping] = image[gnz]\n",
    "    return im_green\n",
    "    \n",
    "    \n",
    "def get_blue(image):\n",
    "    \"\"\"\n",
    "    Returns the blue channel from the RGGB bayer pattern\n",
    "    Assumes and outputs a square image\n",
    "    \"\"\"\n",
    "    chip_dim = image.shape[1]\n",
    "    bayer_blue = np.remainder((np.arange(chip_dim))+1,2)\n",
    "    bayer_blue = np.outer(bayer_blue,bayer_blue)\n",
    "    im_blue = np.zeros((chip_dim//2,chip_dim//2))\n",
    "    im_blue = (image[bayer_blue.nonzero()]).reshape(chip_dim//2,chip_dim//2)\n",
    "    return im_blue"
   ]
  },
  {
   "cell_type": "markdown",
   "metadata": {},
   "source": [
    "# Development area"
   ]
  },
  {
   "cell_type": "code",
   "execution_count": null,
   "metadata": {},
   "outputs": [],
   "source": []
  },
  {
   "cell_type": "code",
   "execution_count": null,
   "metadata": {},
   "outputs": [],
   "source": []
  }
 ],
 "metadata": {
  "kernelspec": {
   "display_name": "Python 3",
   "language": "python",
   "name": "python3"
  },
  "language_info": {
   "codemirror_mode": {
    "name": "ipython",
    "version": 3
   },
   "file_extension": ".py",
   "mimetype": "text/x-python",
   "name": "python",
   "nbconvert_exporter": "python",
   "pygments_lexer": "ipython3",
   "version": "3.7.4"
  }
 },
 "nbformat": 4,
 "nbformat_minor": 4
}
