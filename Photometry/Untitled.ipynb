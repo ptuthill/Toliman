{
 "cells": [
  {
   "cell_type": "markdown",
   "metadata": {},
   "source": [
    "# COIN-TOLIMAN Simulations doccument\n",
    "---\n",
    "\n",
    "## Current simulation state:\n",
    "> \n",
    "\n",
    "> Adding complexity to the simulations will be done in three stages\n",
    "\n",
    "\n",
    "**Three stage plan**:\n",
    "\n",
    "1. Translation and rotation:\n",
    " -  \n",
    "\n",
    "2. Plate scale variation: (Low order)\n",
    "\n",
    "3. Local distortions: (High order)\n",
    "\n"
   ]
  },
  {
   "cell_type": "code",
   "execution_count": 1,
   "metadata": {},
   "outputs": [],
   "source": [
    "import sys\n",
    "import os\n",
    "\n",
    "dir_name = os.getcwd().split('/')[-1]\n",
    "parent_path = os.getcwd()[:-(len(dir_name) + 1)]\n",
    "sys.path.append(parent_path)"
   ]
  },
  {
   "cell_type": "code",
   "execution_count": 2,
   "metadata": {},
   "outputs": [],
   "source": [
    "from lib.synphot import *"
   ]
  },
  {
   "cell_type": "code",
   "execution_count": 3,
   "metadata": {},
   "outputs": [],
   "source": [
    "# Stellar Parameters\n",
    "acenA = {\"mag\":0.01, \n",
    "        \"Teff\":5790, \n",
    "        \"Z\": 0.2, \n",
    "        \"log g\": 4.30}\n",
    "\n",
    "acenB = {\"mag\":1.33, \n",
    "        \"Teff\":5260, \n",
    "        \"Z\": 0.23, \n",
    "        \"log g\": 4.37}"
   ]
  },
  {
   "cell_type": "code",
   "execution_count": 4,
   "metadata": {},
   "outputs": [],
   "source": [
    "aperture = 10 #cm diameter\n",
    "central_obscuration = 0 \n",
    "nwavels = 101\n",
    "wl_range = [4450, 5450] # Angstroms\n",
    "acenA_mag = 0.01\n",
    "acenB_mag = 1.33"
   ]
  },
  {
   "cell_type": "code",
   "execution_count": null,
   "metadata": {},
   "outputs": [],
   "source": [
    "r = (aperture-central_obscuration)/2\n",
    "collecting_area = (np.pi * r**2)\n",
    "S.refs.setref(area=collecting_area) # Takes units of cm^2"
   ]
  },
  {
   "cell_type": "code",
   "execution_count": null,
   "metadata": {},
   "outputs": [],
   "source": [
    "# alpha cen A: Teff = 5790, Z = 0.20, log g = 4.30\n",
    "acenA = S.Icat('phoenix',5790,0.2,4.30)\n",
    "\n",
    "# alpha cen B: Teff = 5260, Z = 0.23, log g = 4.37\n",
    "acenB = S.Icat('phoenix',5260,0.23,4.37)"
   ]
  },
  {
   "cell_type": "code",
   "execution_count": null,
   "metadata": {},
   "outputs": [],
   "source": [
    "wavels = np.linspace(wl_range[0], wl_range[1] ,nwavels)\n",
    "throughput = np.ones(nwavels)\n",
    "bandpass = S.ArrayBandpass(wavels, throughput)\n",
    "specA_filt = acenA.renorm(acenA_mag, 'vegamag', bandpass)\n",
    "specB_filt = acenB.renorm(acenB_mag, 'vegamag', bandpass)\n",
    "acenA_obs = S.Observation(specA_filt, bandpass, binset=wavels)\n",
    "acenB_obs = S.Observation(specB_filt, bandpass, binset=wavels)"
   ]
  },
  {
   "cell_type": "code",
   "execution_count": null,
   "metadata": {},
   "outputs": [],
   "source": [
    "plt.plot(acenA_obs.wave, acenA_obs.flux, label=\"Alpha cen A\")\n",
    "plt.plot(acenB_obs.wave, acenB_obs.flux, label=\"Alpha cen B\")\n",
    "plt.xlim(wl_range[0], wl_range[1])\n",
    "plt.legend()\n",
    "plt.show()"
   ]
  },
  {
   "cell_type": "code",
   "execution_count": null,
   "metadata": {},
   "outputs": [],
   "source": [
    "print(acenA_obs.countrate(), \"Photons per second\")\n",
    "print(acenB_obs.countrate(), \"Photons per second\")"
   ]
  },
  {
   "cell_type": "code",
   "execution_count": null,
   "metadata": {},
   "outputs": [],
   "source": [
    "acenA_obs.countrate()/acenB_obs.countrate()"
   ]
  }
 ],
 "metadata": {
  "kernelspec": {
   "display_name": "Python 3",
   "language": "python",
   "name": "python3"
  },
  "language_info": {
   "codemirror_mode": {
    "name": "ipython",
    "version": 3
   },
   "file_extension": ".py",
   "mimetype": "text/x-python",
   "name": "python",
   "nbconvert_exporter": "python",
   "pygments_lexer": "ipython3",
   "version": "3.7.4"
  }
 },
 "nbformat": 4,
 "nbformat_minor": 4
}
