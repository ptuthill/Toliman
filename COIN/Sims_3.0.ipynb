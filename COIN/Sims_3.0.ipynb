{
 "cells": [
  {
   "cell_type": "markdown",
   "metadata": {},
   "source": [
    "# COIN-TOLIMAN Simulations 2.0\n",
    "---\n",
    "Added complexites:\n",
    "- More accurate spectra\n",
    "- Jitter and telescope rotation\n",
    "- Imperfect diffraction at non-ideal wavelengths\n",
    "- Defocus\n",
    "\n",
    "For these simulations we assume each 'image' is a congregation of 24 hors worth of frames. This allows us to clear our fundamental signal to noise ratio floor imposed by photon noise. Since Jitter and telescope rotation are not relevant at these time scales, we will simulate the jitter and rotation by imposing them on each 'image' as if it were a single frame captured by the CCD at \\~10hz for jitter and some relevant time scale for rotation (\\~minutes assuming a rotation period of 1 hour). The code will be written such that these paramters can be tweaked with ease to increase the accuracy of these simulation as more paramters are nailed down. \n",
    "\n",
    "In summary, each 'image' represents 24 hours worth of photons and science signal, and 1/10th of a second in terms of jitter and ~1 minute in terms of rotation.\n",
    "\n",
    "In trying to increase the accuracy of these simulations to the final data set we will now try and confine our astrophysical paramters to closely represent the real world."
   ]
  },
  {
   "cell_type": "code",
   "execution_count": 14,
   "metadata": {},
   "outputs": [],
   "source": [
    "import sys\n",
    "import os\n",
    "dir_name = os.getcwd().split('/')[-1]\n",
    "parent_path = os.getcwd()[:-(len(dir_name) + 1)]\n",
    "sys.path.append(parent_path)"
   ]
  },
  {
   "cell_type": "code",
   "execution_count": 15,
   "metadata": {},
   "outputs": [],
   "source": [
    "import matplotlib.pyplot as plt\n",
    "import numpy as np\n",
    "import multiprocessing as mp\n",
    "from astropy.io import fits\n",
    "from scipy.ndimage import zoom\n",
    "from lib import conversions\n",
    "# from lib.FT_modelling import *\n",
    "from lib import formatter\n",
    "# from lib.conversions import *\n",
    "from new_sims import functions"
   ]
  },
  {
   "cell_type": "code",
   "execution_count": 16,
   "metadata": {},
   "outputs": [],
   "source": [
    "specA = np.load(\"new_sims/AcenA_cps_1.npy\")\n",
    "specB = np.load(\"new_sims/AcenB_cps_1.npy\")\n",
    "wavels = np.load(\"new_sims/Wavelengths.npy\")\n",
    "wavels = np.array(wavels, dtype=np.int)\n",
    "natural_ratio = np.sum(specA)/np.sum(specB)\n",
    "\n",
    "# Set flux ratio (total flux acenA / total flux acenB)\n",
    "# To return to the astrophysical flux ratio set flux_ratio = natural_ratio \n",
    "diverse_spec = True # If True the two stars spectrums will not be identical\n",
    "flux_ratio = natural_ratio\n",
    "\n",
    "if diverse_spec:\n",
    "    specB = specB*natural_ratio/flux_ratio\n",
    "else:\n",
    "    specB = specA/flux_ratio"
   ]
  },
  {
   "cell_type": "markdown",
   "metadata": {},
   "source": [
    "Following on from our work in Rome we will impose a minimum of three cycles of science signal"
   ]
  },
  {
   "cell_type": "code",
   "execution_count": 17,
   "metadata": {},
   "outputs": [],
   "source": [
    "# Telescope parameters\n",
    "aperture = 0.1 # m\n",
    "m2_obsc = 0 # m\n",
    "focal_length = 3.65 # 15cm camera lens\n",
    "npix = 256 # Only simulate central region to decrease computational complexity\n",
    "pix_size = 6.5e-6 # 1.12 microns\n",
    "transform_size = 2**10 # 1024 size of the transformed array\n",
    "\n",
    "# Perfect PSF wavelength (ie 4 times mirror recession depth)\n",
    "central_wavelength = 595e-9"
   ]
  },
  {
   "cell_type": "code",
   "execution_count": 18,
   "metadata": {},
   "outputs": [
    {
     "name": "stdout",
     "output_type": "stream",
     "text": [
      "44.91985222280278\n"
     ]
    }
   ],
   "source": [
    "# Science signal paramters\n",
    "signal_size = 1e-6 # Pixels\n",
    "signal_size = 0*1e-4 # pixels\n",
    "signal_cycles = 3\n",
    "\n",
    "# Astrophysical paramters\n",
    "separation = 16.5 # Arceseconds\n",
    "pix_sep = conversions.arcsec_to_pixel(separation, pix_size, focal_length)\n",
    "pos_A = [0, 0] # Alpha cen A starting positon\n",
    "pos_B = [pix_sep, 0] # Start with stars aligned along the x axis\n",
    "\n",
    "# Simulation Paramters\n",
    "# N = 1200 # Number of images\n",
    "N = 100 # Number of images\n",
    "\n",
    "# Random number seed\n",
    "seed = 0\n",
    "np.random.seed(seed)\n",
    "\n",
    "# Jitter paramters\n",
    "stdev = 0.5 # Pixels\n",
    "\n",
    "# Rotation Parameters\n",
    "n_rots = 0 # Number of rotations\n",
    "print(pix_sep)"
   ]
  },
  {
   "cell_type": "code",
   "execution_count": 19,
   "metadata": {},
   "outputs": [],
   "source": [
    "# Camera parameters\n",
    "dark_current = 80\n",
    "read_noise = 1.3\n",
    "QE = 0.95 # not used\n",
    "full_well = 45e3 # not used \n",
    "fps = 10"
   ]
  },
  {
   "cell_type": "code",
   "execution_count": 20,
   "metadata": {},
   "outputs": [
    {
     "name": "stdout",
     "output_type": "stream",
     "text": [
      "Turning dark noise off\n"
     ]
    }
   ],
   "source": [
    "integration_time = 24 # Hours \n",
    "frame_rate = 10 # Hz\n",
    "\n",
    "spd = 86400 # Seconds per day\n",
    "fpd = spd*frame_rate # Frames per day\n",
    "\n",
    "# Detector noise\n",
    "dark_noise = read_noise + (dark_current/fps)\n",
    "dark_noise = 0\n",
    "\n",
    "# Photon noise\n",
    "peak_photons = 30000\n",
    "print('Turning dark noise off')"
   ]
  },
  {
   "cell_type": "code",
   "execution_count": 21,
   "metadata": {},
   "outputs": [],
   "source": [
    "n_cores = 3"
   ]
  },
  {
   "cell_type": "markdown",
   "metadata": {},
   "source": [
    "--- \n",
    "## Define x and y position arrays\n",
    "\n",
    "Algorithm:\n",
    "1. Generate science signal as a sinusoid centred around zero\n",
    "2. Generate rotational signal and impose science signal on radius values\n",
    "3. Convert to cartesian coordiantes\n",
    "4. Generate jitters in cartesian coordiantes\n",
    "5. Combine two sets of cartesian coordiantes"
   ]
  },
  {
   "cell_type": "code",
   "execution_count": 22,
   "metadata": {},
   "outputs": [],
   "source": [
    "# Science signal\n",
    "arg = np.linspace(0, signal_cycles*2*np.pi, num=N, endpoint=False)\n",
    "drs = signal_size*np.sin(arg)\n",
    "sim_name='sims/toliman_photon_noise'\n",
    "\n",
    "# Write signal file\n",
    "with open(\"{}/signal.csv\".format(sim_name), 'w') as f:\n",
    "    f.write(\"t,x\\n\")\n",
    "    for i in range(N):\n",
    "        f.write(\"{},{}\\n\".format(i, drs[i]))"
   ]
  },
  {
   "cell_type": "code",
   "execution_count": 23,
   "metadata": {},
   "outputs": [],
   "source": [
    "# Generate rotations\n",
    "phis = np.linspace(0, n_rots*2*np.pi, num=N, endpoint=False)\n",
    "Xs = np.vstack((pix_sep+drs) * np.cos(phis))\n",
    "Ys = np.vstack((pix_sep+drs) * np.sin(phis))\n",
    "coords = np.hstack((Xs, Ys))"
   ]
  },
  {
   "cell_type": "code",
   "execution_count": 13,
   "metadata": {},
   "outputs": [
    {
     "name": "stdout",
     "output_type": "stream",
     "text": [
      "Hacking up the jitter\n"
     ]
    },
    {
     "data": {
      "text/plain": [
       "(array([14.,  6., 14., 15., 10.,  5.,  7.,  7.,  7., 13.,  7., 15.,  5.,\n",
       "        14., 12.,  9., 13.,  8., 10.,  9.]),\n",
       " array([0.00574945, 0.05541088, 0.10507231, 0.15473374, 0.20439517,\n",
       "        0.2540566 , 0.30371803, 0.35337946, 0.40304089, 0.45270232,\n",
       "        0.50236374, 0.55202517, 0.6016866 , 0.65134803, 0.70100946,\n",
       "        0.75067089, 0.80033232, 0.84999375, 0.89965518, 0.94931661,\n",
       "        0.99897804]),\n",
       " <a list of 20 Patch objects>)"
      ]
     },
     "execution_count": 13,
     "metadata": {},
     "output_type": "execute_result"
    },
    {
     "data": {
      "image/png": "[encoded data removed]",
      "text/plain": [
       "<Figure size 432x288 with 1 Axes>"
      ]
     },
     "metadata": {
      "needs_background": "light"
     },
     "output_type": "display_data"
    }
   ],
   "source": [
    "# 2D Gaussian with a standard deviation of 0.5 pixels\n",
    "jitters = np.random.normal(scale=stdev, size=2*N).reshape(N, 2)\n",
    "with open(\"{}/jitter.csv\".format(sim_name), 'w') as f:\n",
    "    f.write(\"t,x\\n\")\n",
    "    for i in range(N):\n",
    "        f.write(\"{},{},{}\\n\".format(i, jitters[i,0],jitters[i,1]))"
   ]
  },
  {
   "cell_type": "code",
   "execution_count": 57,
   "metadata": {},
   "outputs": [],
   "source": [
    "A_coords_xy = jitters\n",
    "B_coords_xy = coords + jitters"
   ]
  },
  {
   "cell_type": "code",
   "execution_count": 58,
   "metadata": {},
   "outputs": [
    {
     "data": {
      "text/plain": [
       "<matplotlib.collections.PathCollection at 0x118439640>"
      ]
     },
     "execution_count": 58,
     "metadata": {},
     "output_type": "execute_result"
    },
    {
     "data": {
      "image/png": "[encoded data removed]",
      "text/plain": [
       "<Figure size 432x288 with 1 Axes>"
      ]
     },
     "metadata": {
      "needs_background": "light"
     },
     "output_type": "display_data"
    }
   ],
   "source": [
    "plt.scatter(A_coords_xy[:,0], A_coords_xy[:,1])\n",
    "plt.scatter(B_coords_xy[:,0], B_coords_xy[:,1])"
   ]
  },
  {
   "cell_type": "code",
   "execution_count": 59,
   "metadata": {},
   "outputs": [],
   "source": [
    "A_rs = (A_coords_xy[:,0]**2 + A_coords_xy[:,1]**2)**0.5\n",
    "B_rs = (B_coords_xy[:,0]**2 + B_coords_xy[:,1]**2)**0.5\n",
    "\n",
    "A_phis = np.arctan2(A_coords_xy[:,1], A_coords_xy[:,0])\n",
    "B_phis = np.arctan2(B_coords_xy[:,1], B_coords_xy[:,0])"
   ]
  },
  {
   "cell_type": "code",
   "execution_count": 60,
   "metadata": {},
   "outputs": [
    {
     "name": "stdout",
     "output_type": "stream",
     "text": [
      "0.0\n"
     ]
    },
    {
     "data": {
      "image/png": "[encoded data removed]",
      "text/plain": [
       "<Figure size 864x288 with 2 Axes>"
      ]
     },
     "metadata": {
      "needs_background": "light"
     },
     "output_type": "display_data"
    }
   ],
   "source": [
    "# Wavefront error!\n",
    "# Generate from a random walk\n",
    "np.random.seed(seed+1)# +1 so we don't get correlated jitters and defocus\n",
    "\n",
    "defocus_amount = 0.00 * central_wavelength\n",
    "coma_amount = 0.00 * central_wavelength\n",
    "astig_amount = 0.00 * central_wavelength\n",
    "\n",
    "wfe_rms = np.zeros(N)\n",
    "defocus_amps = np.zeros(N)\n",
    "coma_amps = np.zeros((N,2))\n",
    "astig_amps = np.zeros((N,2))\n",
    "last_defocus = 0\n",
    "last_coma = [0,0]\n",
    "last_astig = [0,0]\n",
    "for ix in range(N):\n",
    "    next_defocus = np.random.normal(loc=last_defocus,scale=defocus_amount)\n",
    "    defocus_amps[ix] = next_defocus\n",
    "    last_defocus = next_defocus\n",
    "    \n",
    "    next_coma = np.random.normal(loc=last_coma,scale=coma_amount,size=2)\n",
    "    coma_amps[ix] = next_coma\n",
    "    last_coma = next_coma\n",
    "    \n",
    "    next_astig = np.random.normal(loc=last_astig,scale=astig_amount,size=2)\n",
    "    astig_amps[ix] = next_astig\n",
    "    last_astig = next_astig\n",
    "\n",
    "# Make a random point zero\n",
    "defocus_amps -= np.random.choice(defocus_amps)\n",
    "coma_amps[:,0] -= np.random.choice(coma_amps[:,0])\n",
    "coma_amps[:,1] -= np.random.choice(coma_amps[:,1])\n",
    "astig_amps[:,0] -= np.random.choice(astig_amps[:,0])\n",
    "astig_amps[:,1] -= np.random.choice(astig_amps[:,1])\n",
    "    \n",
    "# Measure the RMS WFE on each image\n",
    "for ix in range(N):\n",
    "    wfe_terms = {(0,2):defocus_amps[ix],(-1,3):coma_amps[ix,0],(1,3):coma_amps[ix,1],\n",
    "                      (-2,2):astig_amps[ix,0],(2,2):astig_amps[ix,1]}\n",
    "    wfe_map = functions.add_zernikes(wfe_terms,[256,256])\n",
    "    wfe_rms[ix] = np.sqrt(np.mean(wfe_map**2))\n",
    "\n",
    "\n",
    "plt.figure(figsize=(12,4))\n",
    "plt.subplot(121)\n",
    "plt.plot(defocus_amps/central_wavelength,label='Defocus')\n",
    "plt.plot(coma_amps[:,0]/central_wavelength,label='ComaX')\n",
    "plt.plot(coma_amps[:,1]/central_wavelength,label='ComaY')\n",
    "plt.plot(astig_amps[:,0]/central_wavelength,label='AstigX')\n",
    "plt.plot(astig_amps[:,1]/central_wavelength,label='AstigY')\n",
    "plt.xlabel('Image')\n",
    "plt.ylabel('WFE amplitude (wavelengths)')\n",
    "plt.legend()\n",
    "\n",
    "plt.subplot(122)\n",
    "plt.plot(wfe_rms*1e9)\n",
    "plt.ylabel('WFE rms (nm)')\n",
    "print(np.median(wfe_rms*1e9))\n",
    "\n",
    "# Save it in a dictionary to pass to the sims\n",
    "wfe_terms = {'Defocus':defocus_amps,'Coma':coma_amps,'Astigmatism':astig_amps}"
   ]
  },
  {
   "cell_type": "code",
   "execution_count": 79,
   "metadata": {},
   "outputs": [],
   "source": [
    "# Save all the important params\n",
    "with open(sim_name+'/sim_parameters.txt','w') as file:\n",
    "    file.write('Random seed: '+str(seed)+'\\n')\n",
    "    file.write('Central wavelength: '+str(central_wavelength)+'\\n')\n",
    "    file.write('Jitter (pix): '+str(stdev)+'\\n')\n",
    "    file.write('Signal size: '+str(signal_size)+'\\n')\n",
    "    file.write('Signal cycles: '+str(signal_cycles)+'\\n')\n",
    "    file.write('Dark Noise: '+str(dark_noise)+'\\n')\n",
    "    file.write('Peak Photons: '+str(peak_photons)+'\\n')\n",
    "    file.write('Defocus Amplitude (m): '+str(defocus_amount)+'\\n')\n",
    "    file.write('Coma Amplitude (m): '+str(coma_amount)+'\\n')\n",
    "    file.write('Astigmatism Amplitude (m): '+str(astig_amount)+'\\n')\n",
    "    file.write('Median RMS WFE (nm): '+str(np.median(wfe_rms*1e9))+'\\n')"
   ]
  },
  {
   "cell_type": "markdown",
   "metadata": {},
   "source": [
    "---\n",
    "Pre-compute a series of pupils that will are pre-scaled to give the dersired FT array size for each wavelength"
   ]
  },
  {
   "cell_type": "code",
   "execution_count": 62,
   "metadata": {},
   "outputs": [],
   "source": [
    "pupil_in = np.load(\"pupil_scaled.npy\")\n",
    "# pupil_in = formatter.pupil_from_fits(\"pupil.fits\")\n",
    "sizes = []\n",
    "\n",
    "for wl in wavels:\n",
    "    # Caclaute how big the pupil array needs to be to get our desired Fourier Transformed array size\n",
    "    plate_scale = pix_size/focal_length    # Radians per pixel\n",
    "    spatial_freq = (wl*1e-9)/aperture\n",
    "    scale_factor = spatial_freq/plate_scale\n",
    "    size_out = int(transform_size/scale_factor)\n",
    "    sizes.append([size_out, wl,pupil_in,sim_name])"
   ]
  },
  {
   "cell_type": "code",
   "execution_count": 63,
   "metadata": {},
   "outputs": [
    {
     "name": "stdout",
     "output_type": "stream",
     "text": [
      "CPU times: user 103 ms, sys: 102 ms, total: 204 ms\n",
      "Wall time: 3.56 s\n"
     ]
    }
   ],
   "source": [
    "%%time\n",
    "with mp.Pool(processes=n_cores) as pool:\n",
    "# pool = mp.Pool(processes=n_cores)\n",
    "    null = pool.map(functions.make_pupil, sizes)"
   ]
  },
  {
   "cell_type": "code",
   "execution_count": 80,
   "metadata": {},
   "outputs": [],
   "source": [
    "static = [aperture, m2_obsc, npix, focal_length, pix_size, transform_size,sim_name]\n",
    "combination_inputs = [specA, specB, fpd]\n",
    "inputs = []\n",
    "\n",
    "for n in range(N):\n",
    "    loop_wfe_terms = {(0,2):wfe_terms['Defocus'][n],\n",
    "                      (-1,3):wfe_terms['Coma'][n,0],(1,3):wfe_terms['Coma'][n,1],\n",
    "                      (-2,2):wfe_terms['Astigmatism'][n,0],(2,2):wfe_terms['Astigmatism'][n,1]}\n",
    "\n",
    "    for wl in wavels:\n",
    "        for i in range(2):\n",
    "            if i %2 == 0:\n",
    "                r = A_rs[n]\n",
    "                phi = A_phis[n]\n",
    "                star = \"A\"\n",
    "            else:\n",
    "                r = B_rs[n]\n",
    "                phi = B_phis[n]\n",
    "                star = \"B\"\n",
    "                                \n",
    "            dynamic = [n, wl, r, phi, star,loop_wfe_terms]\n",
    "            inputs.append(static + dynamic)\n",
    "    if (N > 500) and  (n % 100) == 0:\n",
    "        print('Done {0} of {1}'.format(n,N))"
   ]
  },
  {
   "cell_type": "code",
   "execution_count": 81,
   "metadata": {},
   "outputs": [
    {
     "name": "stdout",
     "output_type": "stream",
     "text": [
      "Done 5000 of 20200\n",
      "Done 10000 of 20200\n",
      "Done 15000 of 20200\n",
      "Done 20000 of 20200\n",
      "CPU times: user 794 ms, sys: 216 ms, total: 1.01 s\n",
      "Wall time: 15min 26s\n"
     ]
    }
   ],
   "source": [
    "%%time\n",
    "# Put it in a with statement to close them automatically\n",
    "with mp.Pool(processes=n_cores) as pool:\n",
    "    # Do it in blocks of 100\n",
    "    upto = 0\n",
    "    while upto < len(inputs):\n",
    "        null = pool.map(functions.model_image, inputs[upto:upto+100])\n",
    "        upto += 100\n",
    "        if (upto % 5000) == 0:\n",
    "            print('Done {0} of {1}'.format(upto,len(inputs)))"
   ]
  },
  {
   "cell_type": "code",
   "execution_count": 90,
   "metadata": {},
   "outputs": [
    {
     "name": "stdout",
     "output_type": "stream",
     "text": [
      "Done 0 of 100\n",
      "Done 10 of 100\n",
      "Done 20 of 100\n",
      "Done 30 of 100\n",
      "Done 40 of 100\n",
      "Done 50 of 100\n",
      "Done 60 of 100\n",
      "Done 70 of 100\n",
      "Done 80 of 100\n",
      "Done 90 of 100\n"
     ]
    }
   ],
   "source": [
    "# Combine images\n",
    "peak_photons = 2500000 # photons\n",
    "for n in range(100):\n",
    "    # Add detector noise\n",
    "    im_out =  np.abs(np.round(np.random.normal(scale=dark_noise, size=[npix, npix])))\n",
    "    \n",
    "    for i in range(len(wavels)):\n",
    "        wl = wavels[i]\n",
    "        countsA = specA[i]\n",
    "        countsB = specB[i]\n",
    "                \n",
    "        PSF_A = np.load(sim_name+\"/PSFs/{}_{}_A.npy\".format(n, wl))\n",
    "        PSF_B = np.load(sim_name+\"/PSFs/{}_{}_B.npy\".format(n, wl))\n",
    "        \n",
    "        im_out += countsA*PSF_A + countsB*PSF_B\n",
    "        \n",
    "    # Add photon noise\n",
    "    im_out = functions.add_photon_noise(im_out,peak_photons=peak_photons)\n",
    "    \n",
    "    np.save(sim_name+\"/images/{}.npy\".format(n), im_out)\n",
    "    fits.writeto(sim_name+\"/images/{}.fits\".format(n),im_out,overwrite=True)\n",
    "    if (n % (N//10)) ==0:\n",
    "        print('Done {0} of {1}'.format(n,N))\n",
    "        \n",
    "#     plt.imshow(im_out)"
   ]
  },
  {
   "cell_type": "code",
   "execution_count": null,
   "metadata": {},
   "outputs": [],
   "source": []
  },
  {
   "cell_type": "code",
   "execution_count": 91,
   "metadata": {},
   "outputs": [
    {
     "name": "stdout",
     "output_type": "stream",
     "text": [
      "Toliman: 45711035.09 45707483.5\n",
      "Fullpupil: 45727717.57 45622607.5\n",
      "Need to multiply by: 0.9996351779426896 1.001860393446385\n"
     ]
    }
   ],
   "source": [
    "# How many photons were in the toliman pupil?\n",
    "nphots_tol = []\n",
    "nphots_full = []\n",
    "for ix in range(100):\n",
    "    im = np.load('sims/toliman_photon_noise/images/{0}.npy'.format(ix))\n",
    "    nphots_tol.append(np.sum(im))\n",
    "    \n",
    "    im = np.load('sims/round_pupil_photon_noise/images/{0}.npy'.format(ix))\n",
    "    nphots_full.append(np.sum(im))\n",
    "\n",
    "\n",
    "print('Toliman:',np.mean(nphots_tol),np.median(nphots_tol))\n",
    "print('Fullpupil:',np.mean(nphots_full),np.median(nphots_full))\n",
    "print('Need to multiply by:',np.mean(nphots_tol)/np.mean(nphots_full),np.median(nphots_tol)/np.median(nphots_full))\n"
   ]
  },
  {
   "cell_type": "code",
   "execution_count": null,
   "metadata": {},
   "outputs": [],
   "source": [
    "# test photon noise\n",
    "from importlib import reload\n",
    "reload(functions)\n",
    "image = np.load('sims/jitter_only/images/0.npy')\n",
    "image = functions.add_photon_noise(image,peak_photons=30000)\n",
    "\n",
    "# add dark noise too\n",
    "dark_noise = np.random.poisson(lam=0.1,size=image.shape)\n",
    "image += dark_noise\n",
    "\n",
    "# And flat field errors\n",
    "\n",
    "plt.imshow(image**0.1)"
   ]
  },
  {
   "cell_type": "code",
   "execution_count": null,
   "metadata": {},
   "outputs": [],
   "source": []
  },
  {
   "cell_type": "code",
   "execution_count": null,
   "metadata": {},
   "outputs": [],
   "source": []
  },
  {
   "cell_type": "code",
   "execution_count": 38,
   "metadata": {},
   "outputs": [
    {
     "name": "stdout",
     "output_type": "stream",
     "text": [
      "/Users/cheetham/code/toliman/Toliman/COIN/sims/toliman_100k_photons\n",
      "Photons in A/Photons in B: 3.9426651996358073\n",
      "Done 0 of 100\n",
      "Photons in A/Photons in B: 3.9426651996358064\n",
      "Photons in A/Photons in B: 3.9426651996358064\n",
      "Photons in A/Photons in B: 3.942665199635807\n",
      "Photons in A/Photons in B: 3.9426651996358077\n",
      "Photons in A/Photons in B: 3.942665199635806\n",
      "Photons in A/Photons in B: 3.9426651996358064\n",
      "Photons in A/Photons in B: 3.942665199635807\n",
      "Photons in A/Photons in B: 3.9426651996358077\n",
      "Photons in A/Photons in B: 3.942665199635807\n",
      "Photons in A/Photons in B: 3.942665199635806\n",
      "Done 10 of 100\n",
      "Photons in A/Photons in B: 3.9426651996358064\n",
      "Photons in A/Photons in B: 3.9426651996358077\n",
      "Photons in A/Photons in B: 3.942665199635806\n",
      "Photons in A/Photons in B: 3.9426651996358064\n",
      "Photons in A/Photons in B: 3.9426651996358073\n",
      "Photons in A/Photons in B: 3.9426651996358077\n",
      "Photons in A/Photons in B: 3.9426651996358064\n",
      "Photons in A/Photons in B: 3.9426651996358064\n",
      "Photons in A/Photons in B: 3.9426651996358077\n",
      "Photons in A/Photons in B: 3.9426651996358064\n",
      "Done 20 of 100\n",
      "Photons in A/Photons in B: 3.9426651996358064\n",
      "Photons in A/Photons in B: 3.9426651996358073\n",
      "Photons in A/Photons in B: 3.942665199635806\n",
      "Photons in A/Photons in B: 3.9426651996358064\n",
      "Photons in A/Photons in B: 3.9426651996358064\n",
      "Photons in A/Photons in B: 3.942665199635807\n",
      "Photons in A/Photons in B: 3.9426651996358064\n",
      "Photons in A/Photons in B: 3.9426651996358064\n",
      "Photons in A/Photons in B: 3.9426651996358073\n",
      "Photons in A/Photons in B: 3.9426651996358073\n",
      "Done 30 of 100\n",
      "Photons in A/Photons in B: 3.9426651996358064\n",
      "Photons in A/Photons in B: 3.942665199635807\n",
      "Photons in A/Photons in B: 3.942665199635806\n",
      "Photons in A/Photons in B: 3.942665199635807\n",
      "Photons in A/Photons in B: 3.9426651996358073\n",
      "Photons in A/Photons in B: 3.942665199635807\n",
      "Photons in A/Photons in B: 3.9426651996358055\n",
      "Photons in A/Photons in B: 3.9426651996358073\n",
      "Photons in A/Photons in B: 3.9426651996358073\n",
      "Photons in A/Photons in B: 3.9426651996358064\n",
      "Done 40 of 100\n",
      "Photons in A/Photons in B: 3.942665199635806\n",
      "Photons in A/Photons in B: 3.9426651996358077\n",
      "Photons in A/Photons in B: 3.9426651996358064\n",
      "Photons in A/Photons in B: 3.942665199635807\n",
      "Photons in A/Photons in B: 3.942665199635807\n",
      "Photons in A/Photons in B: 3.942665199635806\n",
      "Photons in A/Photons in B: 3.9426651996358073\n",
      "Photons in A/Photons in B: 3.9426651996358073\n",
      "Photons in A/Photons in B: 3.9426651996358073\n",
      "Photons in A/Photons in B: 3.942665199635806\n",
      "Done 50 of 100\n",
      "Photons in A/Photons in B: 3.9426651996358064\n",
      "Photons in A/Photons in B: 3.942665199635806\n",
      "Photons in A/Photons in B: 3.9426651996358064\n",
      "Photons in A/Photons in B: 3.9426651996358064\n",
      "Photons in A/Photons in B: 3.942665199635807\n",
      "Photons in A/Photons in B: 3.9426651996358064\n",
      "Photons in A/Photons in B: 3.942665199635806\n",
      "Photons in A/Photons in B: 3.942665199635806\n",
      "Photons in A/Photons in B: 3.942665199635807\n",
      "Photons in A/Photons in B: 3.9426651996358064\n",
      "Done 60 of 100\n",
      "Photons in A/Photons in B: 3.9426651996358077\n",
      "Photons in A/Photons in B: 3.9426651996358073\n",
      "Photons in A/Photons in B: 3.942665199635807\n",
      "Photons in A/Photons in B: 3.9426651996358064\n",
      "Photons in A/Photons in B: 3.942665199635807\n",
      "Photons in A/Photons in B: 3.9426651996358064\n",
      "Photons in A/Photons in B: 3.9426651996358073\n",
      "Photons in A/Photons in B: 3.942665199635807\n",
      "Photons in A/Photons in B: 3.942665199635806\n",
      "Photons in A/Photons in B: 3.9426651996358073\n",
      "Done 70 of 100\n",
      "Photons in A/Photons in B: 3.9426651996358077\n",
      "Photons in A/Photons in B: 3.9426651996358064\n",
      "Photons in A/Photons in B: 3.9426651996358073\n",
      "Photons in A/Photons in B: 3.9426651996358077\n",
      "Photons in A/Photons in B: 3.9426651996358073\n",
      "Photons in A/Photons in B: 3.942665199635806\n",
      "Photons in A/Photons in B: 3.9426651996358064\n",
      "Photons in A/Photons in B: 3.942665199635807\n",
      "Photons in A/Photons in B: 3.942665199635807\n",
      "Photons in A/Photons in B: 3.9426651996358064\n",
      "Done 80 of 100\n",
      "Photons in A/Photons in B: 3.9426651996358073\n",
      "Photons in A/Photons in B: 3.9426651996358077\n",
      "Photons in A/Photons in B: 3.9426651996358064\n",
      "Photons in A/Photons in B: 3.9426651996358077\n",
      "Photons in A/Photons in B: 3.9426651996358064\n",
      "Photons in A/Photons in B: 3.9426651996358064\n",
      "Photons in A/Photons in B: 3.9426651996358064\n",
      "Photons in A/Photons in B: 3.942665199635806\n",
      "Photons in A/Photons in B: 3.9426651996358064\n",
      "Photons in A/Photons in B: 3.9426651996358064\n",
      "Done 90 of 100\n",
      "Photons in A/Photons in B: 3.9426651996358064\n",
      "Photons in A/Photons in B: 3.9426651996358064\n",
      "Photons in A/Photons in B: 3.942665199635807\n",
      "Photons in A/Photons in B: 3.9426651996358055\n",
      "Photons in A/Photons in B: 3.942665199635806\n",
      "Photons in A/Photons in B: 3.942665199635807\n",
      "Photons in A/Photons in B: 3.9426651996358064\n",
      "Photons in A/Photons in B: 3.942665199635806\n",
      "Photons in A/Photons in B: 3.9426651996358073\n"
     ]
    }
   ],
   "source": [
    "# Save out sims with different numbers of photons\n",
    "peak_photons_k = 100 # photons\n",
    "sim_name_out = '/Users/cheetham/code/toliman/Toliman/COIN/sims/toliman_{0}k_photons'.format(peak_photons_k)\n",
    "# os.makedirs(sim_name_out+'/images/')\n",
    "peak_photons = peak_photons_k*1e3\n",
    "print(sim_name_out)\n",
    "for n in range(100):\n",
    "    # Add detector noise\n",
    "    im_out =  np.abs(np.round(np.random.normal(scale=dark_noise, size=[npix, npix])))\n",
    "    a_out = 0*np.abs(np.round(np.random.normal(scale=dark_noise, size=[npix, npix])))\n",
    "    b_out = 0*np.abs(np.round(np.random.normal(scale=dark_noise, size=[npix, npix])))\n",
    "    \n",
    "    for i in range(len(wavels)):\n",
    "        wl = wavels[i]\n",
    "        countsA = specA[i]\n",
    "        countsB = specB[i]\n",
    "                \n",
    "        PSF_A = np.load(sim_name+\"/PSFs/{}_{}_A.npy\".format(n, wl))\n",
    "        PSF_B = np.load(sim_name+\"/PSFs/{}_{}_B.npy\".format(n, wl))\n",
    "        \n",
    "        a_out += countsA*PSF_A\n",
    "        b_out += countsB*PSF_B\n",
    "        \n",
    "        im_out += countsA*PSF_A + countsB*PSF_B\n",
    "        \n",
    "    # Add photon noise\n",
    "    im_out = functions.add_photon_noise(im_out,peak_photons=peak_photons)\n",
    "    \n",
    "    # Photons in A vs B\n",
    "    print('Photons in A/Photons in B:',np.sum(a_out)/np.sum(b_out))\n",
    "    \n",
    "    np.save(sim_name_out+\"/images/{}.npy\".format(n), im_out)\n",
    "#     fits.writeto(sim_name+\"/images/{}.fits\".format(n),im_out,overwrite=True)\n",
    "    if (n % (N//10)) ==0:\n",
    "        print('Done {0} of {1}'.format(n,N))"
   ]
  },
  {
   "cell_type": "code",
   "execution_count": null,
   "metadata": {},
   "outputs": [],
   "source": []
  },
  {
   "cell_type": "code",
   "execution_count": null,
   "metadata": {
    "scrolled": true
   },
   "outputs": [],
   "source": [
    "# Derotate the images\n",
    "import importlib\n",
    "importlib.reload(functions)\n",
    "for n in range(N):\n",
    "# for n in [225]:\n",
    "    im_in = np.load(\"test/normal_images/{}.npy\".format(n))\n",
    "    \n",
    "    derot_angle = -phis[n]/np.pi*180\n",
    "    im_out = functions.fft_rotate(im_in,derot_angle,pad=4)\n",
    "        \n",
    "#     np.save(\"test/derot_images/{}.npy\".format(n), im_out)\n",
    "    fits.writeto(\"test/derot_images/{}.fits\".format(n),im_out,overwrite=True)\n",
    "    if (n % 10) ==1:\n",
    "        print('Done {} of {}'.format(n,N))"
   ]
  },
  {
   "cell_type": "code",
   "execution_count": null,
   "metadata": {},
   "outputs": [],
   "source": []
  }
 ],
 "metadata": {
  "kernelspec": {
   "display_name": "Python 3",
   "language": "python",
   "name": "python3"
  },
  "language_info": {
   "codemirror_mode": {
    "name": "ipython",
    "version": 3
   },
   "file_extension": ".py",
   "mimetype": "text/x-python",
   "name": "python",
   "nbconvert_exporter": "python",
   "pygments_lexer": "ipython3",
   "version": "3.8.3"
  }
 },
 "nbformat": 4,
 "nbformat_minor": 4
}
