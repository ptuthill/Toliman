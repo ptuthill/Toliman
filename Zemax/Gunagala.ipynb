{
 "cells": [
  {
   "cell_type": "markdown",
   "metadata": {},
   "source": [
    "# Gunagala package"
   ]
  },
  {
   "cell_type": "code",
   "execution_count": 10,
   "metadata": {},
   "outputs": [],
   "source": [
    "import numpy as np\n",
    "from func_lib import zemax_to_array\n",
    "from astropy import units as u\n",
    "from astropy.table import Table\n",
    "from gunagala import optic as optic_pkg\n",
    "from gunagala import camera as camera_pkg\n",
    "from gunagala import optical_filter as optical_filter_pkg\n",
    "from gunagala import psf as psf_pkg\n",
    "from gunagala import sky as sky_pkg\n",
    "from gunagala import imager as imager_pkg\n",
    "import matplotlib \n",
    "matplotlib.use('TkAgg')\n",
    "import matplotlib.pyplot as plt"
   ]
  },
  {
   "cell_type": "markdown",
   "metadata": {},
   "source": [
    "### Optic class"
   ]
  },
  {
   "cell_type": "code",
   "execution_count": 2,
   "metadata": {},
   "outputs": [],
   "source": [
    "# Generate Throughput table\n",
    "num_vals = 11\n",
    "wl_range = np.linspace(545e-9, 645e-9, num_vals) * 0.9 *  u.meter\n",
    "relative_throughput = np.ones(num_vals)\n",
    "throughput = Table([wl_range, relative_throughput], names=(\"Wavelength\", \"Throughput\"))"
   ]
  },
  {
   "cell_type": "code",
   "execution_count": 3,
   "metadata": {},
   "outputs": [],
   "source": [
    "# Optic class\n",
    "aperture = 0.1 * u.meter\n",
    "focal_length = 3.85 * u.meter\n",
    "central_obstruction = 0.02 * u.meter\n",
    "\n",
    "optic = optic_pkg.Optic(aperture, focal_length, throughput, central_obstruction)"
   ]
  },
  {
   "cell_type": "markdown",
   "metadata": {},
   "source": [
    "### Optical_filter class"
   ]
  },
  {
   "cell_type": "code",
   "execution_count": 4,
   "metadata": {},
   "outputs": [],
   "source": [
    "# Optical_filter class\n",
    "num_vals = 101\n",
    "wl_range = np.linspace(545e-9, 645e-9, num_vals) *  u.meter\n",
    "relative_throughput = np.ones(num_vals) * 0.99\n",
    "relative_throughput[0] = 0\n",
    "relative_throughput[-1] = 0\n",
    "transmission_table = Table([wl_range, relative_throughput], names=(\"Wavelength\", \"Transmission\"))\n",
    "\n",
    "optical_filter = optical_filter_pkg.Filter(transmission=transmission_table)\n",
    "filters = {\"filter_1\": optical_filter}"
   ]
  },
  {
   "cell_type": "markdown",
   "metadata": {},
   "source": [
    "### PSF class"
   ]
  },
  {
   "cell_type": "code",
   "execution_count": 17,
   "metadata": {},
   "outputs": [],
   "source": [
    "# PSF class\n",
    "psf_data, metadata = zemax_to_array('Toliman_on-axis_broadband.txt')\n",
    "psf_sampling = 0.0938 * u.arcsec / u.pixel\n",
    "\n",
    "pixelated_psf = psf_pkg.PixellatedPSF(psf_data, psf_sampling)"
   ]
  },
  {
   "cell_type": "markdown",
   "metadata": {},
   "source": [
    "### Camera class"
   ]
  },
  {
   "cell_type": "code",
   "execution_count": 18,
   "metadata": {},
   "outputs": [],
   "source": [
    "# Generate Quantum Efficiency table\n",
    "num_vals = 11\n",
    "\n",
    "QE_range = np.linspace(545, 645, num_vals)\n",
    "Throughput = np.ones(num_vals) * 0.95\n",
    "relative_QE = np.ones(num_vals) * 0.95\n",
    "QE = Table([QE_range, Throughput, relative_QE], names=(\"Wavelength\", \"Throughput\", \"QE\"))"
   ]
  },
  {
   "cell_type": "code",
   "execution_count": 19,
   "metadata": {},
   "outputs": [],
   "source": [
    "# Camera class\n",
    "fps = 48\n",
    "\n",
    "bit_depth = 12\n",
    "full_well = 95e3 * u.electron / u.pixel\n",
    "\n",
    "gain = 1.29 * u.electron / u.adu\n",
    "bias = 0 * u.adu / u.pixel # potential\n",
    "\n",
    "readout_time = 1/fps * u.second # Perturb\n",
    "pixel_size = 11 * u.micron / u.pix\n",
    "resolution = [2048, 2048] * u.pix\n",
    "read_noise = 1.6 * u.electron / u.pix\n",
    "dark_current = 0.68 * u.electron / (u.second * u.pixel)\n",
    "minimum_exposure = 1/fps * u.second\n",
    "\n",
    "camera = camera_pkg.Camera(bit_depth, full_well, gain, bias, readout_time, pixel_size, resolution, read_noise, dark_current, QE, minimum_exposure)"
   ]
  },
  {
   "cell_type": "markdown",
   "metadata": {},
   "source": [
    "### Sky class"
   ]
  },
  {
   "cell_type": "code",
   "execution_count": 20,
   "metadata": {},
   "outputs": [],
   "source": [
    "# Sky class\n",
    "sky = sky_pkg.Simple({\"filter_1\": 2.18 * u.AB})"
   ]
  },
  {
   "cell_type": "markdown",
   "metadata": {},
   "source": [
    "### Imager class"
   ]
  },
  {
   "cell_type": "code",
   "execution_count": 21,
   "metadata": {},
   "outputs": [],
   "source": [
    "# Imager class\n",
    "imager = imager_pkg.Imager(optic, camera, filters, pixelated_psf, sky)"
   ]
  },
  {
   "cell_type": "code",
   "execution_count": 22,
   "metadata": {},
   "outputs": [],
   "source": [
    "im = np.asarray(imager.psf.pixellated(size=512))e"
   ]
  },
  {
   "cell_type": "code",
   "execution_count": 23,
   "metadata": {},
   "outputs": [
    {
     "name": "stderr",
     "output_type": "stream",
     "text": [
      "/anaconda3/lib/python3.7/site-packages/ipykernel_launcher.py:1: RuntimeWarning: divide by zero encountered in log\n",
      "  \"\"\"Entry point for launching an IPython kernel.\n"
     ]
    }
   ],
   "source": [
    "im_log = np.log(np.abs(im))"
   ]
  },
  {
   "cell_type": "code",
   "execution_count": 32,
   "metadata": {},
   "outputs": [],
   "source": [
    "from matplotlib.colors import LogNorm\n",
    "plt.imshow(im**0.5)\n",
    "plt.colorbar()\n",
    "plt.show()"
   ]
  },
  {
   "cell_type": "code",
   "execution_count": null,
   "metadata": {},
   "outputs": [],
   "source": []
  }
 ],
 "metadata": {
  "kernelspec": {
   "display_name": "Python 3",
   "language": "python",
   "name": "python3"
  },
  "language_info": {
   "codemirror_mode": {
    "name": "ipython",
    "version": 3
   },
   "file_extension": ".py",
   "mimetype": "text/x-python",
   "name": "python",
   "nbconvert_exporter": "python",
   "pygments_lexer": "ipython3",
   "version": "3.7.1"
  }
 },
 "nbformat": 4,
 "nbformat_minor": 2
}
