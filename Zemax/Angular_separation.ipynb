{
 "cells": [
  {
   "cell_type": "code",
   "execution_count": 1,
   "metadata": {},
   "outputs": [],
   "source": [
    "import numpy as np\n",
    "from astropy.coordinates import *"
   ]
  },
  {
   "cell_type": "code",
   "execution_count": 5,
   "metadata": {},
   "outputs": [],
   "source": [
    "def rad_to_asec(angle):\n",
    "    return angle*3600*180/np.pi"
   ]
  },
  {
   "cell_type": "code",
   "execution_count": 7,
   "metadata": {},
   "outputs": [
    {
     "name": "stdout",
     "output_type": "stream",
     "text": [
      "16.472326595064594\n"
     ]
    }
   ],
   "source": [
    "c1 = SkyCoord(\"14h39m36.49400s -60d50m02.3737s\")\n",
    "c2 = SkyCoord(\"14h39m35.06311s -60d50m15.0992s\")\n",
    "sep_asec = c1.separation(c2).arcsec\n",
    "print(sep_asec)"
   ]
  },
  {
   "cell_type": "code",
   "execution_count": 8,
   "metadata": {},
   "outputs": [
    {
     "name": "stdout",
     "output_type": "stream",
     "text": [
      "1.5401105533116528\n",
      "10.695548160256841\n"
     ]
    }
   ],
   "source": [
    "num_pix = 2400\n",
    "pix_spacing = 1.12e-6\n",
    "fl = 0.15\n",
    "\n",
    "\n",
    "fov_asec = rad_to_asec(num_pix * pix_spacing / fl)\n",
    "fov_per_pix_asec = fov_asec/num_pix\n",
    "pixel_sep = sep_asec/fov_per_pix_asec\n",
    "\n",
    "print(fov_per_pix_asec)\n",
    "print(pixel_sep)"
   ]
  },
  {
   "cell_type": "code",
   "execution_count": 12,
   "metadata": {},
   "outputs": [
    {
     "name": "stdout",
     "output_type": "stream",
     "text": [
      "0.3750269204492661\n",
      "43.92305111145476\n"
     ]
    }
   ],
   "source": [
    "num_pix = 2000\n",
    "pix_spacing = 7e-6\n",
    "fl = 3.85\n",
    "\n",
    "\n",
    "fov_asec = rad_to_asec(num_pix * pix_spacing / fl)\n",
    "# fov_per_pix_asec = 0.375\n",
    "fov_per_pix_asec = fov_asec/num_pix\n",
    "pixel_sep = sep_asec/fov_per_pix_asec\n",
    "\n",
    "print(fov_per_pix_asec)\n",
    "print(pixel_sep)"
   ]
  },
  {
   "cell_type": "code",
   "execution_count": null,
   "metadata": {},
   "outputs": [],
   "source": []
  }
 ],
 "metadata": {
  "kernelspec": {
   "display_name": "Python 3",
   "language": "python",
   "name": "python3"
  },
  "language_info": {
   "codemirror_mode": {
    "name": "ipython",
    "version": 3
   },
   "file_extension": ".py",
   "mimetype": "text/x-python",
   "name": "python",
   "nbconvert_exporter": "python",
   "pygments_lexer": "ipython3",
   "version": "3.7.1"
  }
 },
 "nbformat": 4,
 "nbformat_minor": 2
}
