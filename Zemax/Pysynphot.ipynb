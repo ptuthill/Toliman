{
 "cells": [
  {
   "cell_type": "markdown",
   "metadata": {},
   "source": [
    "# Pysynphot\n",
    "\n",
    " - Flux values\n",
    " - Magnitudes\n",
    " - Photon counts"
   ]
  },
  {
   "cell_type": "code",
   "execution_count": 48,
   "metadata": {},
   "outputs": [],
   "source": [
    "import numpy as np\n",
    "import pysynphot as S\n",
    "import matplotlib.pyplot as plt"
   ]
  },
  {
   "cell_type": "code",
   "execution_count": 49,
   "metadata": {},
   "outputs": [],
   "source": [
    "# def custom_bandpass(wl, pass_range, value=1):\n",
    "#     \"\"\"\n",
    "#     Outputs a scaled custom binary bandpass\n",
    "#     \"\"\"\n",
    "    \n",
    "\n",
    "# def apply_filter(stars, colour):\n",
    "#     \"\"\"\n",
    "#     Generates a binary filter based on the colour selected and passes the stars \n",
    "#     spectrum through this filter, being normalised to its actual magnitude as observed\n",
    "#     outputs an oberservation from this spectrum for use in other programs\n",
    "#     \"\"\"\n",
    "\n",
    "#     throughput = custom_bandpass(wavels, [4000,5250]) # 1250nm range\n",
    "\n",
    "    \n",
    "\n",
    "    "
   ]
  },
  {
   "cell_type": "code",
   "execution_count": 68,
   "metadata": {},
   "outputs": [
    {
     "name": "stdout",
     "output_type": "stream",
     "text": [
      "78.53981633974483\n"
     ]
    }
   ],
   "source": [
    "aperture = 10 #cm diameter\n",
    "central_obscuration = 0 # Set later (use diameter)\n",
    "r = (aperture-central_obscuration)/2\n",
    "collecting_area = (np.pi * r**2)\n",
    "S.refs.setref(area=collecting_area) # Takes units of cm^2\n",
    "print(collecting_area)"
   ]
  },
  {
   "cell_type": "code",
   "execution_count": 72,
   "metadata": {},
   "outputs": [
    {
     "data": {
      "text/plain": [
       "\u001b[0;31mSignature:\u001b[0m      \u001b[0mbandpass\u001b[0m\u001b[0;34m(\u001b[0m\u001b[0mwavelengths\u001b[0m\u001b[0;34m)\u001b[0m\u001b[0;34m\u001b[0m\u001b[0;34m\u001b[0m\u001b[0m\n",
       "\u001b[0;31mType:\u001b[0m           ArraySpectralElement\n",
       "\u001b[0;31mString form:\u001b[0m    UnnamedArrayBandpass\n",
       "\u001b[0;31mFile:\u001b[0m           /anaconda3/lib/python3.7/site-packages/pysynphot/spectrum.py\n",
       "\u001b[0;31mDocstring:\u001b[0m     \n",
       "Class to handle :ref:`bandpass from arrays <pysynphot-bandpass-arrays>`.\n",
       "\n",
       "Parameters\n",
       "----------\n",
       "wave, throughput : array_like\n",
       "    Wavelength and throughput arrays.\n",
       "\n",
       "waveunits : str\n",
       "    Wavelength unit, as accepted by `~pysynphot.units.Units`.\n",
       "    Default is Angstrom.\n",
       "\n",
       "name : str\n",
       "    Description of the spectrum. Default is \"UnnamedArrayBandpass\".\n",
       "\n",
       "Attributes\n",
       "----------\n",
       "name\n",
       "    Same as input.\n",
       "\n",
       "warnings : dict\n",
       "    To store warnings.\n",
       "\n",
       "isAnalytic : bool\n",
       "    This is always `False`.\n",
       "\n",
       "binset : `None`\n",
       "    This is reserved to be used by `~pysynphot.obsbandpass.ObsModeBandpass`.\n",
       "\n",
       "waveunits : `~pysynphot.units.Units`\n",
       "    User unit for wavelength.\n",
       "\n",
       "wave, throughput : array_like\n",
       "    Wavelength set in user unit and associated unitless throughput.\n",
       "\n",
       "Raises\n",
       "------\n",
       "ValueError\n",
       "    Mismatched wavelength and throughput arrays.\n",
       "\u001b[0;31mCall docstring:\u001b[0m\n",
       "This is where the throughput array is calculated for a given\n",
       "input wavelength table.\n",
       "\n",
       "Parameters\n",
       "----------\n",
       "wavelengths : ndarray\n",
       "    An array of wavelengths in Angstrom at which the\n",
       "    throughput should be sampled.\n"
      ]
     },
     "metadata": {},
     "output_type": "display_data"
    }
   ],
   "source": [
    "nwavels = 1001\n",
    "wavels = np.linspace(4450,5450,nwavels)\n",
    "bandpass = S.ArrayBandpass(wavels, [1 for wl in wavels])\n",
    "bandpass?"
   ]
  },
  {
   "cell_type": "code",
   "execution_count": 70,
   "metadata": {},
   "outputs": [],
   "source": [
    "# use Phoenix models for Teff, metallicity (dex), log g in that order \n",
    "\n",
    "# alpha cen A: Teff = 5790, Z = 0.20, log g = 4.30\n",
    "acenA = S.Icat('phoenix',5790,0.2,4.30)\n",
    "# specA = acenA.sample(wavels)\n",
    "\n",
    "# alpha cen B: Teff = 5260, Z = 0.23, log g = 4.37\n",
    "acenB = S.Icat('phoenix',5260,0.23,4.37)\n",
    "# specB = acenB.sample(wavels)"
   ]
  },
  {
   "cell_type": "code",
   "execution_count": 54,
   "metadata": {},
   "outputs": [],
   "source": [
    "acenA_mag = 1.33\n",
    "acenB_mag = 0.01\n",
    "\n",
    "filtered_specA = acenA.renorm(acenA_mag, 'vegamag', bandpass)\n",
    "filtered_specB = acenB.renorm(acenB_mag, 'vegamag', bandpass)\n",
    "\n",
    "acenA_obs = S.Observation(filtered_specA, bandpass, binset=wavels)\n",
    "acenB_obs = S.Observation(filtered_specB, bandpass, binset=wavels)"
   ]
  },
  {
   "cell_type": "code",
   "execution_count": 55,
   "metadata": {},
   "outputs": [
    {
     "name": "stdout",
     "output_type": "stream",
     "text": [
      "angstrom\n",
      "flam\n"
     ]
    }
   ],
   "source": [
    "print(acenA.waveunits)\n",
    "print(acenA.fluxunits)"
   ]
  },
  {
   "cell_type": "code",
   "execution_count": 61,
   "metadata": {},
   "outputs": [
    {
     "data": {
      "text/plain": [
       "\u001b[0;31mSignature:\u001b[0m      \u001b[0macenA_obs\u001b[0m\u001b[0;34m(\u001b[0m\u001b[0mwavelength\u001b[0m\u001b[0;34m)\u001b[0m\u001b[0;34m\u001b[0m\u001b[0;34m\u001b[0m\u001b[0m\n",
       "\u001b[0;31mType:\u001b[0m           Observation\n",
       "\u001b[0;31mString form:\u001b[0m    phoenix(Teff=5790,metallicity=0.2,logG=4.3) * 8.54938e-17 * UnnamedArrayBandpass\n",
       "\u001b[0;31mFile:\u001b[0m           /anaconda3/lib/python3.7/site-packages/pysynphot/observation.py\n",
       "\u001b[0;31mDocstring:\u001b[0m     \n",
       "Class to handle an :ref:`observation <pysynphot-observation>`.\n",
       "An observation is the end point of a chain of spectral manipulation.\n",
       "\n",
       "Most `~pysynphot.obsbandpass.ObsBandpass` objects have a built-in\n",
       "``binset`` that is optimized for use with the specified observing\n",
       "mode (also see :ref:`pysynphot-wavelength-table`).\n",
       "Specifying the ``binset`` here would override the built-in one.\n",
       "\n",
       "Parameters\n",
       "----------\n",
       "spec : `~pysynphot.spectrum.SourceSpectrum`\n",
       "    Source spectrum.\n",
       "\n",
       "band : `~pysynphot.spectrum.SpectralElement`\n",
       "    Bandpass.\n",
       "\n",
       "binset : array_like or `None`\n",
       "    Wavelength values to be used for binning when converting to counts.\n",
       "    See :meth:`initbinset`.\n",
       "\n",
       "force\n",
       "    See :meth:`~pysynphot.observation.Observation.validate_overlap`.\n",
       "\n",
       "Attributes\n",
       "----------\n",
       "spectrum\n",
       "    Same as input ``spec``.\n",
       "\n",
       "bandpass\n",
       "    Same as input ``band``.\n",
       "\n",
       "binset\n",
       "    Same as input ``binset``.\n",
       "\n",
       "component1, component2 : `~pysynphot.spectrum.SourceSpectrum` or `~pysynphot.spectrum.SpectralElement`\n",
       "    Components and sub-components that belong to the observation.\n",
       "\n",
       "operation : str\n",
       "    This is always \"multiply\".\n",
       "\n",
       "name : str\n",
       "    Short description of the observation.\n",
       "\n",
       "warnings : dict\n",
       "    To store warnings, which are inherited from all inputs. If they have the same warning keyword, the one from most recently read component is used.\n",
       "\n",
       "isAnalytic : bool\n",
       "    Flag to indicate whether this is an analytic spectrum. This is only `True` if both inputs are analytic.\n",
       "\n",
       "primary_area : number or `None`\n",
       "    :ref:`pysynphot-area` of the telescope. This is inherited from either of the inputs, if available (not `None`). If inputs have different values, an exception is raised.\n",
       "\n",
       "waveunits, fluxunits : `~pysynphot.units.Units`\n",
       "    User units inherited from source spectrum.\n",
       "\n",
       "wave, flux : array_like\n",
       "    Wavelength set and associated flux in user units. This is the native dataset.\n",
       "\n",
       "binwave, binflux : array_like\n",
       "    Binned dataset.\n",
       "\n",
       "Raises\n",
       "------\n",
       "pysynphot.exceptions.IncompatibleSources\n",
       "    Input spectra have different telescope areas defined.\n",
       "\u001b[0;31mCall docstring:\u001b[0m\n",
       "Add or multiply components, delegating the function calculation\n",
       "to the individual objects.\n"
      ]
     },
     "metadata": {},
     "output_type": "display_data"
    }
   ],
   "source": [
    "acenA_obs?"
   ]
  },
  {
   "cell_type": "code",
   "execution_count": 66,
   "metadata": {},
   "outputs": [
    {
     "name": "stdout",
     "output_type": "stream",
     "text": [
      "phoenix(Teff=5790,metallicity=0.2,logG=4.3) * 8.54938e-17 * UnnamedArrayBandpass\n"
     ]
    },
    {
     "data": {
      "image/png": "[encoded data removed]",
      "text/plain": [
       "<Figure size 432x288 with 1 Axes>"
      ]
     },
     "metadata": {
      "needs_background": "light"
     },
     "output_type": "display_data"
    }
   ],
   "source": [
    "print(acenA_obs.name)\n",
    "plt.plot(acenA_obs.flux, label=\"Alpha cen A\")\n",
    "plt.plot(acenB_obs.flux, label=\"Alpha cen B\")\n",
    "plt.xlim(4450, 5450)\n",
    "plt.legend()\n",
    "plt.show()"
   ]
  },
  {
   "cell_type": "code",
   "execution_count": 13,
   "metadata": {},
   "outputs": [
    {
     "name": "stdout",
     "output_type": "stream",
     "text": [
      "angstrom\n",
      "flam\n",
      "5000\n"
     ]
    }
   ],
   "source": []
  },
  {
   "cell_type": "code",
   "execution_count": 15,
   "metadata": {},
   "outputs": [
    {
     "data": {
      "text/plain": [
       "[<matplotlib.lines.Line2D at 0x11bf77198>]"
      ]
     },
     "execution_count": 15,
     "metadata": {},
     "output_type": "execute_result"
    },
    {
     "data": {
      "image/png": "[encoded data removed]",
      "text/plain": [
       "<Figure size 432x288 with 1 Axes>"
      ]
     },
     "metadata": {
      "needs_background": "light"
     },
     "output_type": "display_data"
    }
   ],
   "source": [
    "plt.plot(acenA.wave[4450:5450])"
   ]
  },
  {
   "cell_type": "code",
   "execution_count": null,
   "metadata": {},
   "outputs": [],
   "source": []
  }
 ],
 "metadata": {
  "kernelspec": {
   "display_name": "Python 3",
   "language": "python",
   "name": "python3"
  },
  "language_info": {
   "codemirror_mode": {
    "name": "ipython",
    "version": 3
   },
   "file_extension": ".py",
   "mimetype": "text/x-python",
   "name": "python",
   "nbconvert_exporter": "python",
   "pygments_lexer": "ipython3",
   "version": "3.7.1"
  }
 },
 "nbformat": 4,
 "nbformat_minor": 2
}
