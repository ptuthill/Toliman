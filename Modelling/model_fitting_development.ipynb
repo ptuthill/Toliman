{
 "cells": [
  {
   "cell_type": "markdown",
   "metadata": {},
   "source": [
    "### NB to develop model fitting"
   ]
  },
  {
   "cell_type": "code",
   "execution_count": 1,
   "metadata": {},
   "outputs": [],
   "source": [
    "import numpy as np\n",
    "import matplotlib.pyplot as plt\n",
    "\n",
    "from lib.formatter import pupil_from_fits\n",
    "from lib.detector_modelling import create_gif\n",
    "from lib.FT_modelling import pupil_phase_offset, model_FT_monochromatic"
   ]
  },
  {
   "cell_type": "code",
   "execution_count": 2,
   "metadata": {},
   "outputs": [],
   "source": [
    "pupil_name = \"files/pupil_new_2k.fits\"\n",
    "pupil = pupil_from_fits(pupil_name)"
   ]
  },
  {
   "cell_type": "code",
   "execution_count": 3,
   "metadata": {},
   "outputs": [],
   "source": [
    "aperture = 0.02\n",
    "wavelength = 500e-9\n",
    "azimuthal_offset = 16.5\n",
    "detector_size = 512\n",
    "detector_pitch = 1.12e-6\n",
    "focal_length = 0.15\n",
    "angular_offsets = np.linspace(-np.pi, np.pi, num=4)\n",
    "angular_offset = angular_offsets[0]"
   ]
  },
  {
   "cell_type": "markdown",
   "metadata": {},
   "source": [
    "**Speed improvement from ~ 1min to ~ 4 sec! 15 times faster!!**"
   ]
  },
  {
   "cell_type": "code",
   "execution_count": 7,
   "metadata": {},
   "outputs": [
    {
     "name": "stdout",
     "output_type": "stream",
     "text": [
      "CPU times: user 16.1 s, sys: 3.11 s, total: 19.2 s\n",
      "Wall time: 11 s\n"
     ]
    }
   ],
   "source": [
    "%%time\n",
    "c = detector_size//2\n",
    "s = 100\n",
    "ims = []\n",
    "for angular_offset in angular_offsets:\n",
    "    new_pupil = pupil_phase_offset(pupil, aperture, wavelength, azimuthal_offset, angular_offset)\n",
    "    im = model_FT(new_pupil, aperture, detector_size, wavelength, focal_length, detector_pitch)\n",
    "    ims.append(im[c-s:c+s, c-s:c+s])"
   ]
  },
  {
   "cell_type": "code",
   "execution_count": 8,
   "metadata": {},
   "outputs": [],
   "source": [
    "create_gif(ims, \"FT_model\")"
   ]
  },
  {
   "cell_type": "code",
   "execution_count": null,
   "metadata": {},
   "outputs": [],
   "source": []
  }
 ],
 "metadata": {
  "kernelspec": {
   "display_name": "Python 3",
   "language": "python",
   "name": "python3"
  },
  "language_info": {
   "codemirror_mode": {
    "name": "ipython",
    "version": 3
   },
   "file_extension": ".py",
   "mimetype": "text/x-python",
   "name": "python",
   "nbconvert_exporter": "python",
   "pygments_lexer": "ipython3",
   "version": "3.7.1"
  }
 },
 "nbformat": 4,
 "nbformat_minor": 2
}
