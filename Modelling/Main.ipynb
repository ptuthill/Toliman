{
 "cells": [
  {
   "cell_type": "markdown",
   "metadata": {},
   "source": [
    "# Main modelling script"
   ]
  },
  {
   "cell_type": "code",
   "execution_count": 1,
   "metadata": {},
   "outputs": [],
   "source": [
    "import numpy as np\n",
    "import matplotlib.pyplot as plt\n",
    "from astropy.coordinates import SkyCoord\n",
    "\n",
    "from lib.formatter import *\n",
    "from lib.conversions import *\n",
    "from lib.detector_modelling import *\n",
    "from lib.FT_modelling import *\n",
    "from lib.synphot import *"
   ]
  },
  {
   "cell_type": "markdown",
   "metadata": {},
   "source": [
    "To Do:\n",
    "- Explore the distortions in the PSFs generated when modelling off-axis stars with Fourier Transforms\n",
    "- Bayer interpolation"
   ]
  },
  {
   "cell_type": "markdown",
   "metadata": {},
   "source": [
    "## Set simulation parameters"
   ]
  },
  {
   "cell_type": "code",
   "execution_count": 12,
   "metadata": {},
   "outputs": [],
   "source": [
    "simulation = \"Tinytol\"\n",
    "# simulation = \"Toliman\"\n",
    "\n",
    "num_positions = 10"
   ]
  },
  {
   "cell_type": "code",
   "execution_count": 19,
   "metadata": {},
   "outputs": [],
   "source": [
    "if simulation == \"Tinytol\":\n",
    "    # Optical Architecture\n",
    "    aperture = 0.02 # m\n",
    "    central_obscuration = 0 # m, diameter\n",
    "    focal_length = 0.15 # m\n",
    "    \n",
    "    # CCD Architecture\n",
    "    detector_size = 2048\n",
    "    detector_pitch = 1.12e-6\n",
    "    fps = 10\n",
    "    \n",
    "    # Actual values need to be set\n",
    "    QE = 0.9\n",
    "    read_noise = 1.6\n",
    "    dark_current = 0.68\n",
    "    gain = 1.29\n",
    "    full_well = 95e3\n",
    "    \n",
    "elif simulation == \"Toliman\":\n",
    "    # Optical Architecture\n",
    "    aperture = 0.1 # m\n",
    "    central_obscuration = 0.0175 # m, diameter\n",
    "    focal_length = 3.85 # m\n",
    "    \n",
    "    # CCD Architecture\n",
    "    detector_size = 2000\n",
    "    detector_pitch = 7e-6\n",
    "    fps = 7.5\n",
    "    QE = 0.9\n",
    "    read_noise = 1.6\n",
    "    dark_current = 0.68\n",
    "    gain = 1.29\n",
    "    full_well = 95e3\n",
    "    \n",
    "else:\n",
    "    print(\"Set simulation settings to either \\\"Toliman\\\" or \\\"Tinytol\\\"\")"
   ]
  },
  {
   "cell_type": "markdown",
   "metadata": {},
   "source": [
    "## Create sterllar objects"
   ]
  },
  {
   "cell_type": "code",
   "execution_count": 24,
   "metadata": {},
   "outputs": [],
   "source": [
    "# Inputs for pysynphot\n",
    "nwavels = 1001\n",
    "wl_range = np.array([445e-9, 545e-9]) # Angstroms"
   ]
  },
  {
   "cell_type": "code",
   "execution_count": 25,
   "metadata": {},
   "outputs": [],
   "source": [
    "# Stellar Parameters\n",
    "acenA = {\"mag\":0.01, \n",
    "        \"Teff\":5790, \n",
    "        \"Z\": 0.2, \n",
    "        \"log g\": 4.30}\n",
    "\n",
    "acenB = {\"mag\":1.33, \n",
    "        \"Teff\":5260, \n",
    "        \"Z\": 0.23, \n",
    "        \"log g\": 4.37}"
   ]
  },
  {
   "cell_type": "code",
   "execution_count": 26,
   "metadata": {},
   "outputs": [],
   "source": [
    "# Create stellar observation object\n",
    "acenA[\"obs\"] = create_stellar_obs(aperture*100, central_obscuration*100, nwavels, wl_range*(10e9), acenA)\n",
    "acenB[\"obs\"] = create_stellar_obs(aperture*100, central_obscuration*100, nwavels, wl_range*(10e9), acenB)\n",
    "\n",
    "# Uncomment this to get equal magnitudes (makes it easier to distinguish)\n",
    "# acenB[\"obs\"] = create_stellar_obs(aperture, central_obscuration, nwavels, wl_range, acenA)\n",
    "\n",
    "# Calculate photon rate per second\n",
    "acenA[\"rate/s\"] = acenA[\"obs\"].countrate() # Has units of counts per second\n",
    "acenB[\"rate/s\"] = acenB[\"obs\"].countrate() # Has units of counts per second\n",
    "\n",
    "# Caluate photon rate per frame\n",
    "acenA[\"rate/frame\"] = acenA[\"rate/s\"]/fps\n",
    "acenB[\"rate/frame\"] = acenB[\"rate/s\"]/fps\n",
    "\n",
    "# Calculate the offset\n",
    "acenA[\"coord\"] = SkyCoord(\"14h39m36.49400s -60d50m02.3737s\")\n",
    "acenB[\"coord\"] = SkyCoord(\"14h39m35.06311s -60d50m15.0992s\")\n",
    "azimuthal_offset = acenA[\"coord\"].separation(acenB[\"coord\"]).arcsec"
   ]
  },
  {
   "cell_type": "markdown",
   "metadata": {},
   "source": [
    "## PSF modelling with Fourier Transforms"
   ]
  },
  {
   "cell_type": "markdown",
   "metadata": {},
   "source": [
    "To Do:\n",
    "- Sample the spectra from pysynphot to create broadbrand simulations (computationally heavy)"
   ]
  },
  {
   "cell_type": "code",
   "execution_count": 27,
   "metadata": {},
   "outputs": [],
   "source": [
    "pupil = pupil_from_fits(\"files/pupil_new_2k.fits\")\n",
    "wavelength  = 500e-9"
   ]
  },
  {
   "cell_type": "code",
   "execution_count": 28,
   "metadata": {},
   "outputs": [],
   "source": [
    "# Create on axis psf for alpha cen A\n",
    "psf_on = model_FT(pupil, aperture, detector_size, wavelength, focal_length, detector_pitch)\n",
    "psf_on = acenA[\"rate/frame\"] * psf_on / np.sum(psf_on)"
   ]
  },
  {
   "cell_type": "code",
   "execution_count": 29,
   "metadata": {},
   "outputs": [
    {
     "name": "stdout",
     "output_type": "stream",
     "text": [
      "CPU times: user 55.1 s, sys: 14.3 s, total: 1min 9s\n",
      "Wall time: 44.2 s\n"
     ]
    }
   ],
   "source": [
    "%%time\n",
    "detector_psfs = []\n",
    "for angular_offset in np.linspace(-np.pi, np.pi, num=num_positions):\n",
    "    off_axis_pupil = pupil_phase_offset(pupil, aperture, wavelength, azimuthal_offset, angular_offset)\n",
    "    psf_off = model_FT(off_axis_pupil, aperture, detector_size, wavelength, focal_length, detector_pitch)\n",
    "    psf_off = acenB[\"rate/frame\"] * psf_off / np.sum(psf_off)\n",
    "    detector_psfs.append(psf_on + psf_off)"
   ]
  },
  {
   "cell_type": "markdown",
   "metadata": {},
   "source": [
    "## PSF modelling with Zemax"
   ]
  },
  {
   "cell_type": "code",
   "execution_count": 7,
   "metadata": {},
   "outputs": [],
   "source": [
    "#Input the raw the psf from zemax\n",
    "psf_on, psf_on_meta_data = zemax_to_array('files/Toliman_on-axis_broadband.txt')\n",
    "psf_off, psf_off_meta_data = zemax_to_array('files/Toliman_off-axis_broadband.txt')\n",
    "\n",
    "# Normalise the zemax psfs to photon count per frame\n",
    "acenA[\"psf_norm\"] = acenA[\"rate/frame\"] * psf_on / np.sum(psf_on)\n",
    "acenB[\"psf_norm\"] = acenB[\"rate/frame\"] * psf_off / np.sum(psf_off)\n",
    "\n",
    "zemax_pixel_size = 1.75e-6"
   ]
  },
  {
   "cell_type": "code",
   "execution_count": 9,
   "metadata": {},
   "outputs": [
    {
     "name": "stdout",
     "output_type": "stream",
     "text": [
      "CPU times: user 10.9 s, sys: 326 ms, total: 11.2 s\n",
      "Wall time: 10.1 s\n"
     ]
    }
   ],
   "source": [
    "%%time\n",
    "detector_psfs = interpolate_to_detector([acenA[\"psf_norm\"], acenA[\"psf_norm\"]], azimuthal_offset,\\\n",
    "                                        zemax_pixel_size, detector_pitch, focal_length, num_positions)"
   ]
  },
  {
   "cell_type": "markdown",
   "metadata": {},
   "source": [
    "## Add detector noise"
   ]
  },
  {
   "cell_type": "code",
   "execution_count": 30,
   "metadata": {},
   "outputs": [],
   "source": [
    "images = []\n",
    "for psf in detector_psfs:\n",
    "    im = CCD_output(psf, QE, read_noise, dark_current, fps, gain, full_well)\n",
    "    images.append(im)\n",
    "    \n",
    "    # Build Bayer interpolation for tinytol (it exists somewhere in old_repo)\n",
    "#     if simulation == \"Tinytol\":\n",
    "#         im = Bayer_interpolate()"
   ]
  },
  {
   "cell_type": "markdown",
   "metadata": {},
   "source": [
    "## Create a gif from the series of simulated images"
   ]
  },
  {
   "cell_type": "code",
   "execution_count": 31,
   "metadata": {},
   "outputs": [],
   "source": [
    "create_gif(detector_psfs, \"test_4\")"
   ]
  },
  {
   "cell_type": "code",
   "execution_count": null,
   "metadata": {},
   "outputs": [],
   "source": []
  }
 ],
 "metadata": {
  "kernelspec": {
   "display_name": "Python 3",
   "language": "python",
   "name": "python3"
  },
  "language_info": {
   "codemirror_mode": {
    "name": "ipython",
    "version": 3
   },
   "file_extension": ".py",
   "mimetype": "text/x-python",
   "name": "python",
   "nbconvert_exporter": "python",
   "pygments_lexer": "ipython3",
   "version": "3.7.1"
  }
 },
 "nbformat": 4,
 "nbformat_minor": 2
}
