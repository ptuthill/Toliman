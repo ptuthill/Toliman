{
 "cells": [
  {
   "cell_type": "code",
   "execution_count": 2,
   "metadata": {},
   "outputs": [],
   "source": [
    "import numpy as np\n",
    "import json\n",
    "from tqdm import tqdm\n",
    "import matplotlib.pyplot as plt"
   ]
  },
  {
   "cell_type": "code",
   "execution_count": null,
   "metadata": {},
   "outputs": [],
   "source": [
    "def evaluate_model_zmx(inputs):\n",
    "    \"\"\"\n",
    "    Evaluates the model using Least squares\n",
    "    \"\"\"\n",
    "    data = np.load(\"zmx_noisy.npy\")\n",
    "    data_norm = data/np.sum(data)\n",
    "    \n",
    "    model = build_model_zmx(inputs)\n",
    "    model_norm = model/np.sum(model)\n",
    "    \n",
    "    # Take the sum of the squares of the different\n",
    "    diff = model_norm - data_norm\n",
    "    squares = np.square(diff)\n",
    "    sum_sq = np.sum(squares)\n",
    "    \n",
    "    return sum_sq"
   ]
  },
  {
   "cell_type": "code",
   "execution_count": null,
   "metadata": {},
   "outputs": [],
   "source": [
    "def build_model_zmx(inputs):\n",
    "    \"\"\"\n",
    "    Models the PSF with Zemax\n",
    "    Currently uses third order spline interpolation\n",
    "    \n",
    "    Inputs: [x, y, photons] offset from centre of array\n",
    "        x - pixels\n",
    "        y - pixels\n",
    "        \n",
    "    Returns:\n",
    "        Numpy array of the PSF\n",
    "        \n",
    "    Notes:\n",
    "        Sometimes returns small negatvie values (< -1e-10) - needs testing\n",
    "        Likely could be from third order spline interpolation\n",
    "    \"\"\"\n",
    "    # Extract input parameters\n",
    "    x, y = inputs\n",
    "    \n",
    "    # Get simulation values\n",
    "    with open(\"simulation_values.txt\") as f:\n",
    "        sim_vals = json.load(f)\n",
    "        \n",
    "    # Get raw psf\n",
    "    zmx_im = np.load(\"zmx_im.npy\")\n",
    "        \n",
    "    # Shift psf\n",
    "    size_ratio = sim_vals[\"zmx_pixel_size\"]/sim_vals[\"detector_pitch\"]\n",
    "    x_scaled = x/size_ratio\n",
    "    y_scaled = y/size_ratio\n",
    "    zmx_shift = ndimage.shift(zmx_im, shift, order=sim_vals[\"interp_order\"])\n",
    "    \n",
    "    # Downsample and normalise to detector\n",
    "    im_shift = ndimage.zoom(zmx_shift, size_ratio)\n",
    "    PSF = im_shift/np.sum(im_shift)\n",
    "    \n",
    "    return PSF"
   ]
  }
 ],
 "metadata": {
  "kernelspec": {
   "display_name": "Python 3",
   "language": "python",
   "name": "python3"
  },
  "language_info": {
   "codemirror_mode": {
    "name": "ipython",
    "version": 3
   },
   "file_extension": ".py",
   "mimetype": "text/x-python",
   "name": "python",
   "nbconvert_exporter": "python",
   "pygments_lexer": "ipython3",
   "version": "3.7.1"
  }
 },
 "nbformat": 4,
 "nbformat_minor": 2
}
