{
 "cells": [
  {
   "cell_type": "markdown",
   "metadata": {},
   "source": [
    "# Formatting function development\n",
    "> A place to test and develop formatting functions for the passing of objects between Python, Zemax, and any other programs or file formats"
   ]
  },
  {
   "cell_type": "code",
   "execution_count": 1,
   "metadata": {},
   "outputs": [
    {
     "name": "stdout",
     "output_type": "stream",
     "text": [
      "/Users/louis/Projects/Toliman/Modelling\n"
     ]
    }
   ],
   "source": [
    "import numpy as np\n",
    "from astropy.io import fits\n",
    "import imageio\n",
    "from scipy.ndimage import zoom\n",
    "import os\n",
    "os.chdir(\"..\")\n",
    "print(os.getcwd())\n",
    "import matplotlib.pyplot as plt"
   ]
  },
  {
   "cell_type": "markdown",
   "metadata": {},
   "source": [
    "To Do:\n"
   ]
  },
  {
   "cell_type": "markdown",
   "metadata": {},
   "source": [
    "## Current Scripts"
   ]
  },
  {
   "cell_type": "code",
   "execution_count": 50,
   "metadata": {},
   "outputs": [],
   "source": [
    "def pupil_from_fits(file_name, offset=0, output_size=0):\n",
    "    \"\"\"\n",
    "    Takes in the fits file and returns a complex array of the pupil\n",
    "    \"\"\"\n",
    "    # Create a fits object from astropy\n",
    "    fits_file = fits.open(file_name)[0].data\n",
    "    array = np.array(fits_file)\n",
    "    \n",
    "    if output_size != 0:\n",
    "        ratio = output_size/array.shape[0]\n",
    "        scaled_array = zoom(array, ratio)\n",
    "\n",
    "        # Some values seem to get changed in the process, this is an ad-hoc fix\n",
    "        scaled_array[scaled_array >= np.pi] = np.pi\n",
    "        scaled_array[scaled_array < 0] = 0\n",
    "        \n",
    "        array = scaled_array\n",
    "\n",
    "    # Calculate needed values\n",
    "    gridsize = array.shape[0] - 2*offset\n",
    "    c = gridsize//2\n",
    "    \n",
    "    # Create value arrays\n",
    "    Xs = np.linspace(-c, c-1, num=gridsize)\n",
    "    X, Y = np.meshgrid(Xs, Xs)\n",
    "    r = np.hypot(X, Y)\n",
    "    \n",
    "    # Create pupil\n",
    "    pupil = np.exp(1j*array)\n",
    "    \n",
    "    # Zero outer regions\n",
    "    pupil[r >= (gridsize//2) + offset] = np.complex(0,0)\n",
    "        \n",
    "    return pupil"
   ]
  },
  {
   "cell_type": "code",
   "execution_count": 51,
   "metadata": {},
   "outputs": [],
   "source": [
    "# input_size = pupil.shape[0]\n",
    "# ratio = output_size/input_size\n",
    "# # pupil_sized = zoom(pupil, ratio)\n",
    "\n",
    "pupil = pupil_from_fits(\"files/pupil_new_2k.fits\", output_size=2048)\n",
    "# pupil = pupil_from_fits(\"files/pupil_new_2k.fits\", output_size=0)"
   ]
  },
  {
   "cell_type": "code",
   "execution_count": 54,
   "metadata": {},
   "outputs": [
    {
     "name": "stdout",
     "output_type": "stream",
     "text": [
      "(2048, 2048)\n"
     ]
    },
    {
     "data": {
      "image/png": "[encoded data removed]",
      "text/plain": [
       "<Figure size 432x288 with 2 Axes>"
      ]
     },
     "metadata": {
      "needs_background": "light"
     },
     "output_type": "display_data"
    }
   ],
   "source": [
    "plt.imshow(np.angle(pupil))\n",
    "plt.colorbar()\n",
    "print(pupil.shape)"
   ]
  },
  {
   "cell_type": "code",
   "execution_count": 3,
   "metadata": {},
   "outputs": [],
   "source": [
    "def zemax_to_array(path_to_file):\n",
    "    with open(path_to_file,'rb') as f:\n",
    "        contents = f.read()\n",
    "        \n",
    "    contents = contents.decode(\"utf-16\").split(\"\\n\")\n",
    "    data_raw = [line.strip() for line in contents]\n",
    "    \n",
    "    metadata = []\n",
    "    data = []\n",
    "    \n",
    "    for line in data_raw[:20]:\n",
    "        if line != '':\n",
    "            metadata.append(line)\n",
    "            \n",
    "    for line in data_raw[21:-1]:\n",
    "        line = line.split(\"\\t  \")\n",
    "        line_formatted = [float(l) for l in line if l != '']\n",
    "        data.append(line_formatted)\n",
    "        \n",
    "    return np.asarray(data), metadata"
   ]
  },
  {
   "cell_type": "code",
   "execution_count": 4,
   "metadata": {},
   "outputs": [],
   "source": [
    "def create_sag_file(file_name, pupil, aperture, unit, target_wl):\n",
    "    \"\"\"\n",
    "    Creates a sag file formatted for Zemax\n",
    "    file_name: Name for the file\n",
    "    Pupil: complex array\n",
    "    unit: unit of measurement (mm, cm, m, in)\n",
    "    aperture: telescope aperture in units of 'unit'\n",
    "    target_wl: ideal wavelength in units of 'unit'\n",
    "    \"\"\"\n",
    "    unit_dict = {\"mm\": 0, \"cm\": 1, \"in\": 2, \"m\": 3}\n",
    "    phase_range = 2*np.pi\n",
    "    \n",
    "    nx = pupil.shape[0]\n",
    "    ny = pupil.shape[1]\n",
    "    delx = aperture/nx\n",
    "    dely = aperture/ny\n",
    "    unitflag  = unit_dict[unit]\n",
    "    xdec = 0\n",
    "    ydec = 0\n",
    "    \n",
    "    with open(\"{}_sag.DAT\".format(file_name), 'w') as f:\n",
    "        f.write(\"{} {} {} {} {} {} {}\\n\".format(nx, ny, delx, dely, unitflag, xdec, ydec))\n",
    "        \n",
    "        for i in range(nx):\n",
    "            for j in range(ny):\n",
    "                sag_ratio = np.angle(pupil[i][j])/phase_range\n",
    "                sag_val = sag_ratio*target_wl\n",
    "                if sag_val < 1e-6:\n",
    "                    sag_val = 0\n",
    "                    \n",
    "                f.write(\"{} {} {} {} {}\\n\".format(sag_val, 0, 0, 0, 0))"
   ]
  },
  {
   "cell_type": "code",
   "execution_count": 5,
   "metadata": {},
   "outputs": [],
   "source": [
    "def create_phase_file(file_name, pupil, aperture, unit):\n",
    "    \"\"\"\n",
    "    Creates a sag file formatted for Zemax\n",
    "    file_name: Name for the file\n",
    "    Pupil: complex array\n",
    "    unit: unit of measurement (mm, cm, m, in)\n",
    "    aperture: telescope aperture in units of 'unit'\n",
    "    \"\"\"\n",
    "    unit_dict = {\"mm\": 0, \"cm\": 1, \"in\": 2, \"m\": 3}\n",
    "    \n",
    "    nx = pupil.shape[0]\n",
    "    ny = pupil.shape[1]\n",
    "    delx = aperture/nx\n",
    "    dely = aperture/ny\n",
    "    unitflag  = unit_dict[unit]\n",
    "    xdec = 0\n",
    "    ydec = 0\n",
    "    \n",
    "    with open(\"{}_phase.DAT\".format(file_name), 'w') as f:\n",
    "        f.write(\"{} {} {} {} {} {} {}\\n\".format(nx, ny, delx, dely, unitflag, xdec, ydec))\n",
    "        \n",
    "        for i in range(nx):\n",
    "            for j in range(ny):\n",
    "                phase_val = np.angle(pupil[i][j])\n",
    "                f.write(\"{} {} {} {} {}\\n\".format(phase_val, 0, 0, 0, 0))  "
   ]
  },
  {
   "cell_type": "code",
   "execution_count": 6,
   "metadata": {},
   "outputs": [],
   "source": [
    "def create_gif(arrays, name, directory=\"files/gifs\"):\n",
    "    \"\"\"\n",
    "    Creates a gif out of a series of greyscale arrays\n",
    "    \n",
    "    Inputs:\n",
    "        arrays, array: A list or array of (greyscale) arrays to turned into a gif\n",
    "        name, String: Name of the gif to be created\n",
    "        directory, string: location to place the gifs object in\n",
    "        \n",
    "    Returns:\n",
    "        None\n",
    "        \n",
    "    Notes:\n",
    "        Negative values are not handled properly! (can use np.abs() to fix for small values)\n",
    "    \"\"\"\n",
    "#     formatted_arrays = format_arrays(arrays)\n",
    "    imageio.mimsave(\"{}/{}.gif\".format(directory, name), formatted_arrays)"
   ]
  },
  {
   "cell_type": "code",
   "execution_count": 7,
   "metadata": {},
   "outputs": [],
   "source": [
    "def format_arrays(arrays):\n",
    "    \"\"\"\n",
    "    Formats (scales) the data in a series of arrays to be turned into gif series\n",
    "    Primary use is to suspress warning output when creating a gif with imagieio\n",
    "    \"\"\"\n",
    "    arrays_out = []\n",
    "    for array in arrays:\n",
    "        scaled_array = 255 * (array / np.max(array))\n",
    "        formatted = scaled_array.astype(np.uint8)\n",
    "        arrays_out.append(formatted)\n",
    "        \n",
    "    return arrays_out"
   ]
  },
  {
   "cell_type": "markdown",
   "metadata": {},
   "source": [
    "## Development area"
   ]
  },
  {
   "cell_type": "code",
   "execution_count": null,
   "metadata": {},
   "outputs": [],
   "source": []
  },
  {
   "cell_type": "markdown",
   "metadata": {},
   "source": [
    "## Redundant scripts"
   ]
  },
  {
   "cell_type": "code",
   "execution_count": 8,
   "metadata": {},
   "outputs": [],
   "source": [
    "# Slower non vectorsed version\n",
    "def pupil_from_fits(file_name, offset=0):\n",
    "    \"\"\"\n",
    "    Takes in the fits file and returns a complex array of the pupil\n",
    "    \n",
    "    Vectorise\n",
    "    \"\"\"\n",
    "    fits_file = fits.open(file_name)[0].data\n",
    "    \n",
    "    gridsize = fits_file.shape[0] - 2*offset\n",
    "    c = gridsize//2\n",
    "    pupil = np.zeros((gridsize-offset,gridsize-offset), dtype=complex)\n",
    "\n",
    "    for i in range(gridsize):\n",
    "        for j in range(gridsize):\n",
    "            x = i - c\n",
    "            y = j - c \n",
    "            r = np.hypot(x, y)\n",
    "            if r >= (gridsize//2) + offset:\n",
    "                pupil[i][j] = np.complex(0,0)\n",
    "            else:\n",
    "                pupil[i][j] = np.exp(1j*fits_file[i][j])\n",
    "        \n",
    "    return pupil"
   ]
  },
  {
   "cell_type": "code",
   "execution_count": null,
   "metadata": {},
   "outputs": [],
   "source": []
  }
 ],
 "metadata": {
  "kernelspec": {
   "display_name": "Python 3",
   "language": "python",
   "name": "python3"
  },
  "language_info": {
   "codemirror_mode": {
    "name": "ipython",
    "version": 3
   },
   "file_extension": ".py",
   "mimetype": "text/x-python",
   "name": "python",
   "nbconvert_exporter": "python",
   "pygments_lexer": "ipython3",
   "version": "3.7.1"
  }
 },
 "nbformat": 4,
 "nbformat_minor": 2
}
