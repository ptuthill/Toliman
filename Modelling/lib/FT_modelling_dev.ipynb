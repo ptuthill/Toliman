{
 "cells": [
  {
   "cell_type": "markdown",
   "metadata": {},
   "source": [
    "# Fourier Transform Modelling development\n",
    "> A script for developing the functions needed to model the optical systems with Fourier Transforms and complex array phase pupils"
   ]
  },
  {
   "cell_type": "code",
   "execution_count": 1,
   "metadata": {},
   "outputs": [],
   "source": [
    "import numpy as np\n",
    "from scipy.fftpack import fft2, fftshift\n",
    "from tqdm import tqdm\n",
    "import matplotlib.pyplot as plt\n",
    "from formatter import *\n",
    "import os\n",
    "from conversions import *"
   ]
  },
  {
   "cell_type": "code",
   "execution_count": 2,
   "metadata": {},
   "outputs": [
    {
     "name": "stdout",
     "output_type": "stream",
     "text": [
      "/Users/louis/Projects/Toliman/Modelling\n"
     ]
    }
   ],
   "source": [
    "os.chdir(\"..\")\n",
    "print(os.getcwd())\n",
    "from FT_modelling import pupil_phase_offset_test"
   ]
  },
  {
   "cell_type": "markdown",
   "metadata": {},
   "source": [
    "To Do:\n",
    "- Turn model_FT_broadband into simple loop that calls model_FT_monochromatic"
   ]
  },
  {
   "cell_type": "markdown",
   "metadata": {},
   "source": [
    "## Current scripts"
   ]
  },
  {
   "cell_type": "code",
   "execution_count": 3,
   "metadata": {},
   "outputs": [],
   "source": [
    "def model_FT(mask, mask_size, chip_dim, wavel, foc_length, pix_size):\n",
    "    \"\"\"\n",
    "    Inputs:\n",
    "        mask: Phase mask complex array \n",
    "        mask_size: Size of the phase mask, ie the aperture diameter (m)\n",
    "        chip dim: Units of num pixels\n",
    "        wavel: Wavelength (m)\n",
    "        foc_lenght: Focal length of lens/distance to focal plane of telescope (m)\n",
    "        pix_size: Detector pitch, size of pixel unit cell (m)\n",
    "    \"\"\"\n",
    "    grid_size = mask.shape[1]\n",
    "    plate_scale = pix_size / foc_length    # Radians per pixel\n",
    "    \n",
    "    spatial_freq = wavel/mask_size\n",
    "    array_size = int(grid_size*spatial_freq/plate_scale)\n",
    "    complex_array = np.zeros((array_size,array_size),dtype=complex)\n",
    "    complex_array[0:grid_size, 0:grid_size] = mask\n",
    "    im = np.fft.fftshift(np.abs(np.fft.fft2(complex_array))**2)\n",
    "#     im = fftshift(np.abs(fft2(complex_array))**2)\n",
    "        \n",
    "    # Note: This could intorduce some form of float error (ie returns a 9x9 instead of 10x10 array)\n",
    "    start = (array_size-chip_dim)//2\n",
    "    end = array_size - (array_size-chip_dim)//2\n",
    "    im_out = im[start:end, start:end]\n",
    "\n",
    "    return im_out\n",
    "\n"
   ]
  },
  {
   "cell_type": "code",
   "execution_count": 4,
   "metadata": {},
   "outputs": [],
   "source": [
    "def model_FT_broadband(mask, mask_size, chip_dim, wavels, weights, foc_length, pix_size):\n",
    "    \"\"\"\n",
    "    Inputs:\n",
    "        mask: Phase mask complex array \n",
    "        mask_size: Size of the phase mask, ie the aperture diameter (m)\n",
    "        chip dim: Units of num pixels\n",
    "        wavels: Array of wavelengths (m)\n",
    "        weights: Relative weights of each wavelength\n",
    "        foc_lenght: Focal length of lens/distance to focal plane of telescope (m)\n",
    "        pix_size: Detector pitch, size of pixel unit cell (m)\n",
    "        \n",
    "    Note:\n",
    "        Untested\n",
    "    \"\"\"\n",
    "    im_out = np.zeros((chip_dim,chip_dim))\n",
    "    \n",
    "    for wavel, weight in zip(wavels, weights):\n",
    "        im_out += weight * model_FT(mask, mask_size, chip_dim, wavel, foc_length, pix_size)\n",
    "\n",
    "    return im_out"
   ]
  },
  {
   "cell_type": "code",
   "execution_count": 5,
   "metadata": {},
   "outputs": [],
   "source": [
    "def pupil_phase_mask(pupil, aperture, wavelength, azimuthal_offset, angular_offset, shift=False):\n",
    "    \"\"\"\n",
    "    Calculates the change in phase across the pupil induced by an off centre star\n",
    "    pupil: complex array representing the phase pupil\n",
    "    aperture: Aperture of the telescope (m)\n",
    "    wavelength: Wavelength to be modelled (m)\n",
    "    azimuthal_offset: Angle that is formed between the star being modelled and the normal of the telesope aperture (arcseconds)\n",
    "    angular_offset: Angle around the circle formed by azimulath offset, 0 = offset in +x, pi/2 = offest in +y etc (radians)\n",
    "    \"\"\"\n",
    "    # Calcuate the needed  values\n",
    "    gridsize = pupil.shape[0]\n",
    "    phi = arcsec_to_rad(azimuthal_offset)\n",
    "    OPD = aperture*np.tan(phi)\n",
    "    cycles = OPD/wavelength\n",
    "    period = gridsize/cycles\n",
    "\n",
    "    # Calculate the phase change over the pupil\n",
    "    Xs = np.linspace(-gridsize//2,(gridsize//2)-1, num=gridsize)\n",
    "    X, Y = np.meshgrid(Xs, Xs)\n",
    "    r = np.hypot(X, Y)\n",
    "    theta = np.arctan2(X, Y) - angular_offset \n",
    "    y_new = r * np.sin(theta)\n",
    "    \n",
    "    if shift:\n",
    "        phase_shift = period/2\n",
    "    else:\n",
    "        phase_shift = period\n",
    "    \n",
    "    y_new += phase_shift\n",
    "    eta = y_new * 2*np.pi/period\n",
    "    phase_array = eta\n",
    "    \n",
    "    return phase_array"
   ]
  },
  {
   "cell_type": "code",
   "execution_count": 6,
   "metadata": {},
   "outputs": [],
   "source": [
    "def pupil_phase_driver(pupil, aperture, wavelength, azimuthal_offset, angular_offset):\n",
    "    \"\"\"\n",
    "    Calculates the change in phase across the pupil induced by an off centre star\n",
    "    pupil: complex array representing the phase pupil\n",
    "    aperture: Aperture of the telescope (m)\n",
    "    wavelength: Wavelength to be modelled (m)\n",
    "    azimuthal_offset: Angle that is formed between the star being modelled and the normal of the telesope aperture (arcseconds)\n",
    "    angular_offset: Angle around the circle formed by azimulath offset, 0 = offset in +x, pi/2 = offest in +y etc (radians)\n",
    "    \"\"\"\n",
    "    if azimuthal_offset == 0:\n",
    "        return pupil\n",
    "    \n",
    "    phase = pupil_phase_mask(pupil, aperture, wavelength, azimuthal_offset, angular_offset, shift=False)\n",
    "    anti_phase = pupil_phase_mask(pupil, aperture, wavelength, azimuthal_offset, angular_offset, shift=True)\n",
    "    \n",
    "    mag_array = np.abs(pupil)\n",
    "    mask = np.angle(pupil) > 0\n",
    "    inv_mask = -(mask - 1)\n",
    "    \n",
    "    selection1 = np.multiply(phase, inv_mask)\n",
    "    selection2 = np.multiply(anti_phase, mask)\n",
    "    selection = selection1 + selection2\n",
    "    \n",
    "    aperture_phase = mag_array * selection\n",
    "    new_pupil = mag_array * np.exp(1j*aperture_phase)\n",
    "    \n",
    "    return new_pupil"
   ]
  },
  {
   "cell_type": "markdown",
   "metadata": {},
   "source": [
    "## Development Area"
   ]
  },
  {
   "cell_type": "code",
   "execution_count": 7,
   "metadata": {},
   "outputs": [],
   "source": [
    "wavelength  = 500e-9\n",
    "aperture = 0.02 # m\n",
    "focal_length = 0.15 # m\n",
    "\n",
    "# CCD Architecture\n",
    "detector_size = 256\n",
    "detector_pitch = 1.12e-6\n",
    "\n",
    "azimuthal_offset = 16.5"
   ]
  },
  {
   "cell_type": "code",
   "execution_count": 8,
   "metadata": {},
   "outputs": [],
   "source": [
    "pupil_raw = pupil_from_fits(\"files/pupil_new_2k.fits\")"
   ]
  },
  {
   "cell_type": "code",
   "execution_count": 9,
   "metadata": {},
   "outputs": [
    {
     "name": "stderr",
     "output_type": "stream",
     "text": [
      "100%|██████████| 16/16 [00:07<00:00,  2.11it/s]\n"
     ]
    }
   ],
   "source": [
    "new_pupils = []\n",
    "num = 16\n",
    "thetas = np.linspace(-np.pi, np.pi*(1-(1/num)), num=num)\n",
    "for theta in tqdm(thetas):\n",
    "    new_pupil = pupil_phase_driver(pupil_raw, aperture, wavelength, azimuthal_offset, theta)\n",
    "    new_pupils.append(new_pupil)"
   ]
  },
  {
   "cell_type": "code",
   "execution_count": 14,
   "metadata": {},
   "outputs": [
    {
     "name": "stderr",
     "output_type": "stream",
     "text": [
      "100%|██████████| 16/16 [00:54<00:00,  4.17s/it]"
     ]
    },
    {
     "name": "stdout",
     "output_type": "stream",
     "text": [
      "CPU times: user 1min 1s, sys: 17.1 s, total: 1min 18s\n",
      "Wall time: 55.2 s\n"
     ]
    },
    {
     "name": "stderr",
     "output_type": "stream",
     "text": [
      "\n"
     ]
    }
   ],
   "source": [
    "%%time\n",
    "ims = []\n",
    "for pupil in tqdm(new_pupils):\n",
    "    im = model_FT(pupil, aperture, detector_size, wavelength, focal_length, detector_pitch)\n",
    "    ims.append(im)"
   ]
  },
  {
   "cell_type": "code",
   "execution_count": 16,
   "metadata": {},
   "outputs": [],
   "source": [
    "create_gif(ims, \"asymmetry_test\")"
   ]
  },
  {
   "cell_type": "markdown",
   "metadata": {},
   "source": [
    "## Redundant scripts"
   ]
  },
  {
   "cell_type": "code",
   "execution_count": 12,
   "metadata": {},
   "outputs": [],
   "source": [
    "# Non vectorised slow version of current scripts\n",
    "\n",
    "def model_FT_old(mask, mask_size, chip_dim, wavels, foc_length, pix_size):\n",
    "    \"\"\"\n",
    "    Redundant version, much slower use model_FT_monochromatic/broadband\n",
    "    \n",
    "    Inputs:\n",
    "        mask: Phase mask complex array \n",
    "        mask_size: Size of the phase mask, ie the aperture diameter (m)\n",
    "        chip dim: Units of num pixels\n",
    "        wavels: Array of wavelengths (m)\n",
    "        foc_lenght: Focal length of lens/distance to focal plane of telescope (m)\n",
    "        pix_size: Detector pitch, size of pixel unit cell (m)\n",
    "    Note: Assumes all wavelengths have equal intesity (add intesities later)\n",
    "    \"\"\"\n",
    "    grid_size = mask.shape[1]\n",
    "    plate_scale = pix_size / foc_length    # Radians per pixel\n",
    "    \n",
    "    im_out = np.zeros((chip_dim,chip_dim))\n",
    "\n",
    "    for wavel in wavels:\n",
    "        spatial_freq = wavel/mask_size\n",
    "        array_size = int(grid_size*spatial_freq/plate_scale)\n",
    "        complex_array = np.array(np.zeros((array_size,array_size)),dtype=complex)\n",
    "        complex_array[0:grid_size,0:grid_size] = mask\n",
    "        im = np.fft.fftshift(np.abs(np.fft.fft2(complex_array))**2)\n",
    "            \n",
    "        # Vector or matrix operation\n",
    "        # Scipy or numpy regridding\n",
    "        for y in range(chip_dim):\n",
    "            for x in range(chip_dim):\n",
    "                # Split line below and multiply line below by some scale/ratio to normalise\n",
    "                # Pass in all wavelengths across all bands together and sum then normalise to 1\n",
    "                im_out[y][x] += im[int((array_size-chip_dim)/2) + y][int((array_size-chip_dim)/2) + x]\n",
    "\n",
    "    return im_out"
   ]
  },
  {
   "cell_type": "code",
   "execution_count": 4,
   "metadata": {},
   "outputs": [],
   "source": [
    "# Non vectorised slow version\n",
    "\n",
    "def pupil_phase_offset_old(pupil, aperture, wavelength, azimuthal_offset, angular_offset):\n",
    "    \"\"\"\n",
    "    Redundant, faster vectorised version as pupil_phase_offset\n",
    "    \n",
    "    Calculates the change in phase across the pupil induced by an off centre star\n",
    "    pupil: complex array representing the phase pupil\n",
    "    aperture: Aperture of the telescope (m)\n",
    "    wavelength: Wavelength to be modelled (m)\n",
    "    azimuthal_offset: Angle that is formed between the star being modelled and the normal of the telesope aperture (arcseconds)\n",
    "    angular_offset: Angle around the circle formed by azimulath offset, 0 = offset in +x, pi/2 = offest in +y etc (radians)\n",
    "    \"\"\"\n",
    "    gridsize = pupil.shape[0]\n",
    "    offset = asec_to_rad(azimuthal_offset)\n",
    "    OPD = aperture*np.tan(offset)\n",
    "    cycles = OPD/wavelength\n",
    "    period = gridsize/cycles\n",
    "    phase_array = np.zeros([gridsize, gridsize])\n",
    "    \n",
    "    for x in range(gridsize):\n",
    "        for y in range(gridsize):\n",
    "\n",
    "            # Shift the coordinates to get an off axis sine wave\n",
    "            r = np.hypot(x, y)\n",
    "            theta = np.arctan2(y, x) - angular_offset\n",
    "            y_new = r*np.sin(theta)\n",
    "\n",
    "            # Calcualte the sine wave input value in the new coordiante system\n",
    "            eta = y_new * 2*np.pi/period\n",
    "\n",
    "            # Try changing seocnd if statement to no remainder\n",
    "            if eta%(2*np.pi) < np.pi/2 or eta%(2*np.pi) >= 3*np.pi/2:\n",
    "                phase_array[x][y] = np.sin(eta)*np.pi\n",
    "            else:\n",
    "                phase_array[x][y] = -np.sin(eta)*np.pi\n",
    "                \n",
    "    pupil_out = np.zeros([gridsize, gridsize], dtype=complex)\n",
    "    for i in range(gridsize):\n",
    "        for j in range(gridsize):\n",
    "            mag = np.abs(pupil[i][j])\n",
    "\n",
    "            if mag == 0:\n",
    "                pupil_out[i][j] = np.complex(0,0)\n",
    "\n",
    "            else:\n",
    "                angle = phase_array[i][j] - np.angle(pupil[i][j]) \n",
    "                pupil_out[i][j] = mag*np.exp(1j*angle)\n",
    "                \n",
    "    return pupil_out"
   ]
  },
  {
   "cell_type": "code",
   "execution_count": null,
   "metadata": {},
   "outputs": [],
   "source": [
    "def pupil_phase_offset(pupil, aperture, wavelength, azimuthal_offset, angular_offset):\n",
    "    \"\"\"\n",
    "    Calculates the change in phase across the pupil induced by an off centre star\n",
    "    pupil: complex array representing the phase pupil\n",
    "    aperture: Aperture of the telescope (m)\n",
    "    wavelength: Wavelength to be modelled (m)\n",
    "    azimuthal_offset: Angle that is formed between the star being modelled and the normal of the telesope aperture (arcseconds)\n",
    "    angular_offset: Angle around the circle formed by azimulath offset, 0 = offset in +x, pi/2 = offest in +y etc (radians)\n",
    "    \"\"\"\n",
    "    # Calcuate the needed values\n",
    "    gridsize = pupil.shape[0]\n",
    "    offset = arcsec_to_rad(azimuthal_offset)\n",
    "    OPD = aperture*np.tan(offset)\n",
    "    cycles = OPD/wavelength\n",
    "    period = gridsize/cycles\n",
    "\n",
    "    # Calculate the phase change over the pupil\n",
    "    Xs = np.linspace(0,gridsize-1, num=gridsize)\n",
    "    X, Y = np.meshgrid(Xs, Xs)\n",
    "    r = np.hypot(X, Y)\n",
    "    theta = np.arctan2(X, Y) - angular_offset\n",
    "    y_new = r * np.sin(theta)\n",
    "    eta = y_new * 2*np.pi/period\n",
    "    eta_mod = eta%(2*np.pi)\n",
    "    eta[eta_mod < np.pi/2] = -eta[eta_mod < np.pi/2]\n",
    "    eta[eta_mod > 3*np.pi/2] = -eta[eta_mod > 3*np.pi/2]\n",
    "    phase_array = np.sin(eta)*np.pi\n",
    "    \n",
    "    # Impose the phase array on to the pupil\n",
    "    mag_array = np.abs(pupil)\n",
    "    angle_array = np.angle(pupil)\n",
    "    aperture_phase = mag_array*(phase_array - angle_array)\n",
    "    pupil_out = mag_array * np.exp(1j*aperture_phase)\n",
    "    \n",
    "    return pupil_out, phase_array"
   ]
  }
 ],
 "metadata": {
  "kernelspec": {
   "display_name": "Python 3",
   "language": "python",
   "name": "python3"
  },
  "language_info": {
   "codemirror_mode": {
    "name": "ipython",
    "version": 3
   },
   "file_extension": ".py",
   "mimetype": "text/x-python",
   "name": "python",
   "nbconvert_exporter": "python",
   "pygments_lexer": "ipython3",
   "version": "3.7.1"
  }
 },
 "nbformat": 4,
 "nbformat_minor": 2
}
