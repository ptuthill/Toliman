{
 "cells": [
  {
   "cell_type": "markdown",
   "metadata": {},
   "source": [
    "# Detector modelling development\n",
    "> A script for modelling the output and noise processes of various CCD detectors"
   ]
  },
  {
   "cell_type": "code",
   "execution_count": 1,
   "metadata": {},
   "outputs": [],
   "source": [
    "import numpy as np\n",
    "import imageio"
   ]
  },
  {
   "cell_type": "markdown",
   "metadata": {},
   "source": [
    "To Do:\n",
    "- Test create_gif() and format_arrays()"
   ]
  },
  {
   "cell_type": "markdown",
   "metadata": {},
   "source": [
    "## Current scripts"
   ]
  },
  {
   "cell_type": "code",
   "execution_count": 2,
   "metadata": {},
   "outputs": [],
   "source": [
    "def CCD_output(photons, QE, read_noise, dark_current, fps, gain, full_well):\n",
    "    \"\"\"\n",
    "    Models the convertion of a psf incident to the detector into an image\n",
    "    QE: Quantum efficiency [0, 1]\n",
    "    read_noise: electrons per pixel\n",
    "    dark_current: electrons / (second * pixel)\n",
    "    fps: frames per second\n",
    "    gain: electrons / ADU\n",
    "    full_well: electrons/pixel\n",
    "    \n",
    "    primarily put together with info from: http://kmdouglass.github.io/posts/modeling-noise-for-image-simulations/\n",
    "    \n",
    "    BUG: some values are returned as negative (can fix with np.abs?)\n",
    "    \"\"\"\n",
    "    # Poission noise of photons \n",
    "    photons = np.random.poisson(photons) \n",
    "    \n",
    "    # Convert photons to electrons \n",
    "    electrons = np.round(photons * QE) \n",
    "    \n",
    "    # Calcuate total electron noise\n",
    "    dark_noise = read_noise + (dark_current/fps) \n",
    "    \n",
    "    # Model noise with gaussian distribution\n",
    "    noise = np.round(np.random.normal(scale=dark_noise, size=electrons.shape)) \n",
    "    \n",
    "    # Add noise CCD noise to image and get ADU output\n",
    "    # Should this be sensitivity rather than gain?? \n",
    "    image = (electrons + noise) * gain \n",
    "    \n",
    "    # Model pixel saturation\n",
    "    image[image > full_well] = full_well \n",
    "    \n",
    "    return image"
   ]
  },
  {
   "cell_type": "code",
   "execution_count": 3,
   "metadata": {},
   "outputs": [],
   "source": [
    "def create_gif(arrays, name, directory=\"files/gifs\"):\n",
    "    \"\"\"\n",
    "    Creates a gif out of a series of greyscale arrays\n",
    "    \n",
    "    Inputs:\n",
    "        arrays, array: A list or array of (greyscale) arrays to turned into a gif\n",
    "        name, String: Name of the gif to be created\n",
    "        directory, string: location to place the gifs object in\n",
    "        \n",
    "    Returns:\n",
    "        None\n",
    "        \n",
    "    Notes:\n",
    "        Negative values are not handled properly! (can use np.abs() to fix for small values)\n",
    "    \"\"\"\n",
    "    formatted_arrays = format_arrays(arrays)\n",
    "    imageio.mimsave(\"{}/{}.gif\".format(directory, name), formatted_arrays)"
   ]
  },
  {
   "cell_type": "code",
   "execution_count": 4,
   "metadata": {},
   "outputs": [],
   "source": [
    "def format_arrays(arrays):\n",
    "    \"\"\"\n",
    "    Formats (scales) the data in a series of arrays to be turned into gif series\n",
    "    Primary use is to suspress warning output when creating a gif with imagieio\n",
    "    \"\"\"\n",
    "    arrays_out = []\n",
    "    for array in arrays:\n",
    "        scaled_array = 255 * (array / np.max(array))\n",
    "        formatted = scaled_array.astype(np.uint8)\n",
    "        arrays_out.append(formatted)\n",
    "        \n",
    "    return arrays_out"
   ]
  },
  {
   "cell_type": "markdown",
   "metadata": {},
   "source": [
    "# Development area"
   ]
  },
  {
   "cell_type": "code",
   "execution_count": null,
   "metadata": {},
   "outputs": [],
   "source": []
  },
  {
   "cell_type": "code",
   "execution_count": null,
   "metadata": {},
   "outputs": [],
   "source": []
  }
 ],
 "metadata": {
  "kernelspec": {
   "display_name": "Python 3",
   "language": "python",
   "name": "python3"
  },
  "language_info": {
   "codemirror_mode": {
    "name": "ipython",
    "version": 3
   },
   "file_extension": ".py",
   "mimetype": "text/x-python",
   "name": "python",
   "nbconvert_exporter": "python",
   "pygments_lexer": "ipython3",
   "version": "3.7.1"
  }
 },
 "nbformat": 4,
 "nbformat_minor": 2
}
