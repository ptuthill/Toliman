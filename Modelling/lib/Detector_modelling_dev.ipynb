{
 "cells": [
  {
   "cell_type": "markdown",
   "metadata": {},
   "source": [
    "# Detector modelling development\n",
    "> A script for modelling the output and noise processes of various CCD detectors"
   ]
  },
  {
   "cell_type": "code",
   "execution_count": 1,
   "metadata": {},
   "outputs": [],
   "source": [
    "import numpy as np\n",
    "from scipy.ndimage import shift, zoom"
   ]
  },
  {
   "cell_type": "markdown",
   "metadata": {},
   "source": [
    "To Do:"
   ]
  },
  {
   "cell_type": "markdown",
   "metadata": {},
   "source": [
    "## Current scripts"
   ]
  },
  {
   "cell_type": "code",
   "execution_count": 2,
   "metadata": {},
   "outputs": [],
   "source": [
    "def CCD_output(photons, QE, read_noise, dark_current, fps, gain, full_well):\n",
    "    \"\"\"\n",
    "    Models the convertion of a psf incident to the detector into an image\n",
    "    QE: Quantum efficiency [0, 1]\n",
    "    read_noise: electrons per pixel\n",
    "    dark_current: electrons / (second * pixel)\n",
    "    fps: frames per second\n",
    "    gain: electrons / ADU\n",
    "    full_well: electrons/pixel\n",
    "    \n",
    "    primarily put together with info from: http://kmdouglass.github.io/posts/modeling-noise-for-image-simulations/\n",
    "    \n",
    "    BUG: some values are returned as negative (can fix with np.abs?)\n",
    "    \"\"\"\n",
    "    # Poission noise of photons \n",
    "    photons = np.random.poisson(photons) \n",
    "    \n",
    "    # Convert photons to electrons \n",
    "    electrons = np.round(photons * QE) \n",
    "    \n",
    "    # Calcuate total electron noise\n",
    "    dark_noise = read_noise + (dark_current/fps) \n",
    "    \n",
    "    # Model noise with gaussian distribution\n",
    "    noise = np.round(np.random.normal(scale=dark_noise, size=electrons.shape)) \n",
    "    \n",
    "    # Add noise CCD noise to image and get ADU output\n",
    "    # Should this be sensitivity rather than gain?? \n",
    "    image = (electrons + noise) * gain \n",
    "    \n",
    "    # Model pixel saturation\n",
    "    image[image > full_well] = full_well \n",
    "    \n",
    "    return image"
   ]
  },
  {
   "cell_type": "code",
   "execution_count": 3,
   "metadata": {},
   "outputs": [],
   "source": [
    "def interpolate_to_detector(PSFs, azimuthal_offset, pixel_size, detector_pitch, focal_length, num_positions):\n",
    "    \"\"\"\n",
    "    Interpolates and downsamples the high res PSFs produced by zemax\n",
    "    Inputs:\n",
    "        PSFs, list:\n",
    "            - [0] on-axis PSF\n",
    "            - [1] off-axis PSF\n",
    "        azimuthal_offset, arcsec: Angular offset from the central FoV\n",
    "        pixel_size, m: Size of the pixels used to form the PSFs in Zemax\n",
    "        detector_pitch, m: Size of the pixels on the detector\n",
    "        focal_length, m: Focal lenght of the telescope\n",
    "        num_positions, int: The number of angular position about the centre to simulate \n",
    "        \n",
    "    Outputs: \n",
    "        detector_psfs, list: List of 2D array representing the PSFs interpolated onto the detector\n",
    "    \"\"\"\n",
    "    # Calcualte needed values\n",
    "    pixel_seperation = arcsec_to_pixel(azimuthal_offset, pixel_size, focal_length)\n",
    "    ratio = pixel_size/detector_pitch\n",
    "    \n",
    "    # Calculate the x-y pixel shift coordinates\n",
    "    thetas = np.linspace(-np.pi, np.pi, num=num_positions)\n",
    "    Xs = pixel_seperation*np.cos(thetas)\n",
    "    Ys = pixel_seperation*np.sin(thetas)\n",
    "    \n",
    "    # Interpolate PSFs\n",
    "    psfs_oversampled = [shift(PSFs[0], [0, 0]) + shift(PSFs[1], [Xs[i], Ys[i]]) for i in range(num_positions)]\n",
    "\n",
    "    # Downsample PSFs\n",
    "    \n",
    "    detector_psfs = [zoom(psf, ratio) for psf in psfs_oversampled]\n",
    "    \n",
    "    return detector_psfs"
   ]
  },
  {
   "cell_type": "markdown",
   "metadata": {},
   "source": [
    "# Development area"
   ]
  },
  {
   "cell_type": "code",
   "execution_count": null,
   "metadata": {},
   "outputs": [],
   "source": []
  },
  {
   "cell_type": "code",
   "execution_count": null,
   "metadata": {},
   "outputs": [],
   "source": []
  }
 ],
 "metadata": {
  "kernelspec": {
   "display_name": "Python 3",
   "language": "python",
   "name": "python3"
  },
  "language_info": {
   "codemirror_mode": {
    "name": "ipython",
    "version": 3
   },
   "file_extension": ".py",
   "mimetype": "text/x-python",
   "name": "python",
   "nbconvert_exporter": "python",
   "pygments_lexer": "ipython3",
   "version": "3.7.1"
  }
 },
 "nbformat": 4,
 "nbformat_minor": 2
}
