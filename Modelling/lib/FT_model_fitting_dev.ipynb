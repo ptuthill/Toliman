{
 "cells": [
  {
   "cell_type": "code",
   "execution_count": null,
   "metadata": {},
   "outputs": [],
   "source": [
    "import numpy as np\n",
    "import json\n",
    "from tqdm import tqdm\n",
    "import matplotlib.pyplot as plt\n",
    "from formatter import *\n",
    "from conversions import *\n",
    "from FT_modelling import *"
   ]
  },
  {
   "cell_type": "code",
   "execution_count": null,
   "metadata": {},
   "outputs": [],
   "source": [
    "def evaluate_model(inputs):\n",
    "    \"\"\"\n",
    "    Evaluates the model using Least squares\n",
    "    \"\"\"\n",
    "    data = np.load(\"zmx_zoom.npy\")\n",
    "    data_norm = data/np.sum(data)\n",
    "    \n",
    "    model = build_model_cartesian(inputs)\n",
    "    model_norm = model/np.sum(model)\n",
    "    \n",
    "    # Take the sum of the squares of the different\n",
    "    diff = model_norm - data_norm\n",
    "    squares = np.square(diff)\n",
    "    sum_sq = np.sum(squares)\n",
    "    \n",
    "    return sum_sq"
   ]
  },
  {
   "cell_type": "code",
   "execution_count": null,
   "metadata": {},
   "outputs": [],
   "source": [
    "def evaluate_model_shift(inputs):\n",
    "    \"\"\"\n",
    "    Evaluates the model using Least squares\n",
    "    \"\"\"\n",
    "    data = np.load(\"zmx_shift.npy\")\n",
    "    data_norm = data/np.sum(data)\n",
    "    \n",
    "    model = build_model_cartesian(inputs)\n",
    "    model_norm = model/np.sum(model)\n",
    "    \n",
    "    # Take the sum of the squares of the different\n",
    "    diff = model_norm - data_norm\n",
    "    squares = np.square(diff)\n",
    "    sum_sq = np.sum(squares)\n",
    "    \n",
    "    return sum_sq"
   ]
  },
  {
   "cell_type": "code",
   "execution_count": null,
   "metadata": {},
   "outputs": [],
   "source": [
    "def build_model_polar(inputs):\n",
    "    \"\"\"\n",
    "    Models the PSF using a Fourier Transform\n",
    "    \n",
    "    Inputs: [r, phi] coordinate offset of obervered star from normal of telescope \n",
    "        r - arcseconds\n",
    "        phi - radians\n",
    "        \n",
    "    Returns:\n",
    "        Numpy array of the PSF\n",
    "    \"\"\"\n",
    "    # Extract input parameters\n",
    "    r, phi = inputs\n",
    "    \n",
    "    # Get simulation values\n",
    "    with open(\"simulation_values.txt\") as f:\n",
    "        sim_vals = json.load(f)\n",
    "        \n",
    "    # Get pupil array\n",
    "    pupil = np.load(\"pupil\")\n",
    "    \n",
    "    PSF = FT_model(pupil, sim_vals[\"aperture\"], sim_vals[\"m2_obsc\"], sim_vals[\"detector_size\"], sim_vals[\"wavelength\"], sim_vals[\"focal_length\"], \n",
    "                   sim_vals[\"detector_pitch\"], sim_vals[\"transform_size\"], r, phi, polar=True)\n",
    "    \n",
    "    return PSF"
   ]
  },
  {
   "cell_type": "code",
   "execution_count": null,
   "metadata": {},
   "outputs": [],
   "source": [
    "def build_model_cartesian(inputs):\n",
    "    \"\"\"\n",
    "    Models the PSF using a Fourier Transform\n",
    "    \n",
    "    Inputs: [x y] offset from centre of array\n",
    "        x - pixels\n",
    "        y - pixels\n",
    "        \n",
    "    Returns:\n",
    "        Numpy array of the PSF\n",
    "    \"\"\"\n",
    "    # Extract input parameters\n",
    "    x, y = inputs\n",
    "    \n",
    "    # Get simulation values\n",
    "    with open(\"simulation_values.txt\") as f:\n",
    "        sim_vals = json.load(f)\n",
    "        \n",
    "    # Get pupil array\n",
    "    pupil = np.load(\"pupil_array.npy\")\n",
    "    \n",
    "    PSF = FT_model(pupil, sim_vals[\"aperture\"], sim_vals[\"m2_obsc\"], sim_vals[\"detector_size\"], sim_vals[\"wavelength\"], sim_vals[\"focal_length\"], \n",
    "                   sim_vals[\"detector_pitch\"], sim_vals[\"transform_size\"], x, y, polar=False)\n",
    "    \n",
    "    return PSF"
   ]
  }
 ],
 "metadata": {
  "kernelspec": {
   "display_name": "Python 3",
   "language": "python",
   "name": "python3"
  },
  "language_info": {
   "codemirror_mode": {
    "name": "ipython",
    "version": 3
   },
   "file_extension": ".py",
   "mimetype": "text/x-python",
   "name": "python",
   "nbconvert_exporter": "python",
   "pygments_lexer": "ipython3",
   "version": "3.7.1"
  }
 },
 "nbformat": 4,
 "nbformat_minor": 2
}
